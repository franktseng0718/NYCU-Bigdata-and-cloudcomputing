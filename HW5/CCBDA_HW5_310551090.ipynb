{
  "cells": [
    {
      "cell_type": "markdown",
      "metadata": {
        "id": "64KICbFmdkM7"
      },
      "source": [
        "# Dataset Overview"
      ]
    },
    {
      "cell_type": "code",
      "execution_count": null,
      "metadata": {
        "scrolled": true,
        "id": "_nei8e9adkM8",
        "outputId": "000890f3-4644-4423-eb13-63cd1ee3af32",
        "colab": {
          "base_uri": "https://localhost:8080/",
          "height": 424
        }
      },
      "outputs": [
        {
          "output_type": "execute_result",
          "data": {
            "text/plain": [
              "      CustomerId   Surname  CreditScore Geography  Gender  Age  Tenure  \\\n",
              "0       15565701     Ferri          698     Spain  Female   39       9   \n",
              "1       15565706  Akobundu          612     Spain    Male   35       1   \n",
              "2       15565796  Docherty          745   Germany    Male   48      10   \n",
              "3       15565806    Toosey          532    France    Male   38       9   \n",
              "4       15565878     Bates          631     Spain    Male   29       3   \n",
              "...          ...       ...          ...       ...     ...  ...     ...   \n",
              "7995    15815628    Moysey          711    France  Female   37       8   \n",
              "7996    15815645    Akhtar          481    France    Male   37       8   \n",
              "7997    15815656   Hopkins          541   Germany  Female   39       9   \n",
              "7998    15815660     Mazzi          758    France  Female   34       1   \n",
              "7999    15815690  Akabueze          614     Spain  Female   40       3   \n",
              "\n",
              "        Balance  NumOfProducts  HasCrCard  IsActiveMember  EstimatedSalary  \\\n",
              "0     161993.89              1          0               0         90212.38   \n",
              "1          0.00              1          1               1         83256.26   \n",
              "2      96048.55              1          1               0         74510.65   \n",
              "3          0.00              2          0               0         30583.95   \n",
              "4          0.00              2          1               1        197963.46   \n",
              "...         ...            ...        ...             ...              ...   \n",
              "7995  113899.92              1          0               0         80215.20   \n",
              "7996  152303.66              2          1               1        175082.20   \n",
              "7997  100116.67              1          1               1        199808.10   \n",
              "7998  154139.45              1          1               1         60728.89   \n",
              "7999  113348.50              1          1               1         77789.01   \n",
              "\n",
              "      Exited  \n",
              "0          0  \n",
              "1          1  \n",
              "2          0  \n",
              "3          0  \n",
              "4          0  \n",
              "...      ...  \n",
              "7995       0  \n",
              "7996       0  \n",
              "7997       1  \n",
              "7998       0  \n",
              "7999       0  \n",
              "\n",
              "[8000 rows x 13 columns]"
            ],
            "text/html": [
              "\n",
              "  <div id=\"df-3e528a2a-b04f-4ebc-80ef-73bae5c064cb\">\n",
              "    <div class=\"colab-df-container\">\n",
              "      <div>\n",
              "<style scoped>\n",
              "    .dataframe tbody tr th:only-of-type {\n",
              "        vertical-align: middle;\n",
              "    }\n",
              "\n",
              "    .dataframe tbody tr th {\n",
              "        vertical-align: top;\n",
              "    }\n",
              "\n",
              "    .dataframe thead th {\n",
              "        text-align: right;\n",
              "    }\n",
              "</style>\n",
              "<table border=\"1\" class=\"dataframe\">\n",
              "  <thead>\n",
              "    <tr style=\"text-align: right;\">\n",
              "      <th></th>\n",
              "      <th>CustomerId</th>\n",
              "      <th>Surname</th>\n",
              "      <th>CreditScore</th>\n",
              "      <th>Geography</th>\n",
              "      <th>Gender</th>\n",
              "      <th>Age</th>\n",
              "      <th>Tenure</th>\n",
              "      <th>Balance</th>\n",
              "      <th>NumOfProducts</th>\n",
              "      <th>HasCrCard</th>\n",
              "      <th>IsActiveMember</th>\n",
              "      <th>EstimatedSalary</th>\n",
              "      <th>Exited</th>\n",
              "    </tr>\n",
              "  </thead>\n",
              "  <tbody>\n",
              "    <tr>\n",
              "      <th>0</th>\n",
              "      <td>15565701</td>\n",
              "      <td>Ferri</td>\n",
              "      <td>698</td>\n",
              "      <td>Spain</td>\n",
              "      <td>Female</td>\n",
              "      <td>39</td>\n",
              "      <td>9</td>\n",
              "      <td>161993.89</td>\n",
              "      <td>1</td>\n",
              "      <td>0</td>\n",
              "      <td>0</td>\n",
              "      <td>90212.38</td>\n",
              "      <td>0</td>\n",
              "    </tr>\n",
              "    <tr>\n",
              "      <th>1</th>\n",
              "      <td>15565706</td>\n",
              "      <td>Akobundu</td>\n",
              "      <td>612</td>\n",
              "      <td>Spain</td>\n",
              "      <td>Male</td>\n",
              "      <td>35</td>\n",
              "      <td>1</td>\n",
              "      <td>0.00</td>\n",
              "      <td>1</td>\n",
              "      <td>1</td>\n",
              "      <td>1</td>\n",
              "      <td>83256.26</td>\n",
              "      <td>1</td>\n",
              "    </tr>\n",
              "    <tr>\n",
              "      <th>2</th>\n",
              "      <td>15565796</td>\n",
              "      <td>Docherty</td>\n",
              "      <td>745</td>\n",
              "      <td>Germany</td>\n",
              "      <td>Male</td>\n",
              "      <td>48</td>\n",
              "      <td>10</td>\n",
              "      <td>96048.55</td>\n",
              "      <td>1</td>\n",
              "      <td>1</td>\n",
              "      <td>0</td>\n",
              "      <td>74510.65</td>\n",
              "      <td>0</td>\n",
              "    </tr>\n",
              "    <tr>\n",
              "      <th>3</th>\n",
              "      <td>15565806</td>\n",
              "      <td>Toosey</td>\n",
              "      <td>532</td>\n",
              "      <td>France</td>\n",
              "      <td>Male</td>\n",
              "      <td>38</td>\n",
              "      <td>9</td>\n",
              "      <td>0.00</td>\n",
              "      <td>2</td>\n",
              "      <td>0</td>\n",
              "      <td>0</td>\n",
              "      <td>30583.95</td>\n",
              "      <td>0</td>\n",
              "    </tr>\n",
              "    <tr>\n",
              "      <th>4</th>\n",
              "      <td>15565878</td>\n",
              "      <td>Bates</td>\n",
              "      <td>631</td>\n",
              "      <td>Spain</td>\n",
              "      <td>Male</td>\n",
              "      <td>29</td>\n",
              "      <td>3</td>\n",
              "      <td>0.00</td>\n",
              "      <td>2</td>\n",
              "      <td>1</td>\n",
              "      <td>1</td>\n",
              "      <td>197963.46</td>\n",
              "      <td>0</td>\n",
              "    </tr>\n",
              "    <tr>\n",
              "      <th>...</th>\n",
              "      <td>...</td>\n",
              "      <td>...</td>\n",
              "      <td>...</td>\n",
              "      <td>...</td>\n",
              "      <td>...</td>\n",
              "      <td>...</td>\n",
              "      <td>...</td>\n",
              "      <td>...</td>\n",
              "      <td>...</td>\n",
              "      <td>...</td>\n",
              "      <td>...</td>\n",
              "      <td>...</td>\n",
              "      <td>...</td>\n",
              "    </tr>\n",
              "    <tr>\n",
              "      <th>7995</th>\n",
              "      <td>15815628</td>\n",
              "      <td>Moysey</td>\n",
              "      <td>711</td>\n",
              "      <td>France</td>\n",
              "      <td>Female</td>\n",
              "      <td>37</td>\n",
              "      <td>8</td>\n",
              "      <td>113899.92</td>\n",
              "      <td>1</td>\n",
              "      <td>0</td>\n",
              "      <td>0</td>\n",
              "      <td>80215.20</td>\n",
              "      <td>0</td>\n",
              "    </tr>\n",
              "    <tr>\n",
              "      <th>7996</th>\n",
              "      <td>15815645</td>\n",
              "      <td>Akhtar</td>\n",
              "      <td>481</td>\n",
              "      <td>France</td>\n",
              "      <td>Male</td>\n",
              "      <td>37</td>\n",
              "      <td>8</td>\n",
              "      <td>152303.66</td>\n",
              "      <td>2</td>\n",
              "      <td>1</td>\n",
              "      <td>1</td>\n",
              "      <td>175082.20</td>\n",
              "      <td>0</td>\n",
              "    </tr>\n",
              "    <tr>\n",
              "      <th>7997</th>\n",
              "      <td>15815656</td>\n",
              "      <td>Hopkins</td>\n",
              "      <td>541</td>\n",
              "      <td>Germany</td>\n",
              "      <td>Female</td>\n",
              "      <td>39</td>\n",
              "      <td>9</td>\n",
              "      <td>100116.67</td>\n",
              "      <td>1</td>\n",
              "      <td>1</td>\n",
              "      <td>1</td>\n",
              "      <td>199808.10</td>\n",
              "      <td>1</td>\n",
              "    </tr>\n",
              "    <tr>\n",
              "      <th>7998</th>\n",
              "      <td>15815660</td>\n",
              "      <td>Mazzi</td>\n",
              "      <td>758</td>\n",
              "      <td>France</td>\n",
              "      <td>Female</td>\n",
              "      <td>34</td>\n",
              "      <td>1</td>\n",
              "      <td>154139.45</td>\n",
              "      <td>1</td>\n",
              "      <td>1</td>\n",
              "      <td>1</td>\n",
              "      <td>60728.89</td>\n",
              "      <td>0</td>\n",
              "    </tr>\n",
              "    <tr>\n",
              "      <th>7999</th>\n",
              "      <td>15815690</td>\n",
              "      <td>Akabueze</td>\n",
              "      <td>614</td>\n",
              "      <td>Spain</td>\n",
              "      <td>Female</td>\n",
              "      <td>40</td>\n",
              "      <td>3</td>\n",
              "      <td>113348.50</td>\n",
              "      <td>1</td>\n",
              "      <td>1</td>\n",
              "      <td>1</td>\n",
              "      <td>77789.01</td>\n",
              "      <td>0</td>\n",
              "    </tr>\n",
              "  </tbody>\n",
              "</table>\n",
              "<p>8000 rows × 13 columns</p>\n",
              "</div>\n",
              "      <button class=\"colab-df-convert\" onclick=\"convertToInteractive('df-3e528a2a-b04f-4ebc-80ef-73bae5c064cb')\"\n",
              "              title=\"Convert this dataframe to an interactive table.\"\n",
              "              style=\"display:none;\">\n",
              "        \n",
              "  <svg xmlns=\"http://www.w3.org/2000/svg\" height=\"24px\"viewBox=\"0 0 24 24\"\n",
              "       width=\"24px\">\n",
              "    <path d=\"M0 0h24v24H0V0z\" fill=\"none\"/>\n",
              "    <path d=\"M18.56 5.44l.94 2.06.94-2.06 2.06-.94-2.06-.94-.94-2.06-.94 2.06-2.06.94zm-11 1L8.5 8.5l.94-2.06 2.06-.94-2.06-.94L8.5 2.5l-.94 2.06-2.06.94zm10 10l.94 2.06.94-2.06 2.06-.94-2.06-.94-.94-2.06-.94 2.06-2.06.94z\"/><path d=\"M17.41 7.96l-1.37-1.37c-.4-.4-.92-.59-1.43-.59-.52 0-1.04.2-1.43.59L10.3 9.45l-7.72 7.72c-.78.78-.78 2.05 0 2.83L4 21.41c.39.39.9.59 1.41.59.51 0 1.02-.2 1.41-.59l7.78-7.78 2.81-2.81c.8-.78.8-2.07 0-2.86zM5.41 20L4 18.59l7.72-7.72 1.47 1.35L5.41 20z\"/>\n",
              "  </svg>\n",
              "      </button>\n",
              "      \n",
              "  <style>\n",
              "    .colab-df-container {\n",
              "      display:flex;\n",
              "      flex-wrap:wrap;\n",
              "      gap: 12px;\n",
              "    }\n",
              "\n",
              "    .colab-df-convert {\n",
              "      background-color: #E8F0FE;\n",
              "      border: none;\n",
              "      border-radius: 50%;\n",
              "      cursor: pointer;\n",
              "      display: none;\n",
              "      fill: #1967D2;\n",
              "      height: 32px;\n",
              "      padding: 0 0 0 0;\n",
              "      width: 32px;\n",
              "    }\n",
              "\n",
              "    .colab-df-convert:hover {\n",
              "      background-color: #E2EBFA;\n",
              "      box-shadow: 0px 1px 2px rgba(60, 64, 67, 0.3), 0px 1px 3px 1px rgba(60, 64, 67, 0.15);\n",
              "      fill: #174EA6;\n",
              "    }\n",
              "\n",
              "    [theme=dark] .colab-df-convert {\n",
              "      background-color: #3B4455;\n",
              "      fill: #D2E3FC;\n",
              "    }\n",
              "\n",
              "    [theme=dark] .colab-df-convert:hover {\n",
              "      background-color: #434B5C;\n",
              "      box-shadow: 0px 1px 3px 1px rgba(0, 0, 0, 0.15);\n",
              "      filter: drop-shadow(0px 1px 2px rgba(0, 0, 0, 0.3));\n",
              "      fill: #FFFFFF;\n",
              "    }\n",
              "  </style>\n",
              "\n",
              "      <script>\n",
              "        const buttonEl =\n",
              "          document.querySelector('#df-3e528a2a-b04f-4ebc-80ef-73bae5c064cb button.colab-df-convert');\n",
              "        buttonEl.style.display =\n",
              "          google.colab.kernel.accessAllowed ? 'block' : 'none';\n",
              "\n",
              "        async function convertToInteractive(key) {\n",
              "          const element = document.querySelector('#df-3e528a2a-b04f-4ebc-80ef-73bae5c064cb');\n",
              "          const dataTable =\n",
              "            await google.colab.kernel.invokeFunction('convertToInteractive',\n",
              "                                                     [key], {});\n",
              "          if (!dataTable) return;\n",
              "\n",
              "          const docLinkHtml = 'Like what you see? Visit the ' +\n",
              "            '<a target=\"_blank\" href=https://colab.research.google.com/notebooks/data_table.ipynb>data table notebook</a>'\n",
              "            + ' to learn more about interactive tables.';\n",
              "          element.innerHTML = '';\n",
              "          dataTable['output_type'] = 'display_data';\n",
              "          await google.colab.output.renderOutput(dataTable, element);\n",
              "          const docLink = document.createElement('div');\n",
              "          docLink.innerHTML = docLinkHtml;\n",
              "          element.appendChild(docLink);\n",
              "        }\n",
              "      </script>\n",
              "    </div>\n",
              "  </div>\n",
              "  "
            ]
          },
          "metadata": {},
          "execution_count": 1
        }
      ],
      "source": [
        "import pandas as pd\n",
        "df = pd.read_csv('public.csv')\n",
        "df"
      ]
    },
    {
      "cell_type": "code",
      "source": [
        "!pip install findspark\n",
        "!apt-get -y install openjdk-8-jre-headless\n",
        "!pip install pyspark"
      ],
      "metadata": {
        "colab": {
          "base_uri": "https://localhost:8080/"
        },
        "id": "wpsC6nwgaaO7",
        "outputId": "46948deb-9483-4e88-b074-bf3888eb66e6"
      },
      "execution_count": 3,
      "outputs": [
        {
          "output_type": "stream",
          "name": "stdout",
          "text": [
            "Looking in indexes: https://pypi.org/simple, https://us-python.pkg.dev/colab-wheels/public/simple/\n",
            "Requirement already satisfied: findspark in /usr/local/lib/python3.7/dist-packages (2.0.1)\n",
            "Reading package lists... Done\n",
            "Building dependency tree       \n",
            "Reading state information... Done\n",
            "openjdk-8-jre-headless is already the newest version (8u312-b07-0ubuntu1~18.04).\n",
            "The following package was automatically installed and is no longer required:\n",
            "  libnvidia-common-460\n",
            "Use 'apt autoremove' to remove it.\n",
            "0 upgraded, 0 newly installed, 0 to remove and 45 not upgraded.\n",
            "Looking in indexes: https://pypi.org/simple, https://us-python.pkg.dev/colab-wheels/public/simple/\n",
            "Requirement already satisfied: pyspark in /usr/local/lib/python3.7/dist-packages (3.2.1)\n",
            "Requirement already satisfied: py4j==0.10.9.3 in /usr/local/lib/python3.7/dist-packages (from pyspark) (0.10.9.3)\n"
          ]
        }
      ]
    },
    {
      "cell_type": "markdown",
      "metadata": {
        "id": "dS8Hm53ddkM9"
      },
      "source": [
        "# Use Pyspark to view dataset "
      ]
    },
    {
      "cell_type": "code",
      "execution_count": 4,
      "metadata": {
        "id": "yk7aq7CVdkM-",
        "outputId": "ca4ce468-2b91-49ab-d818-6afe8cbbc736",
        "colab": {
          "base_uri": "https://localhost:8080/"
        }
      },
      "outputs": [
        {
          "output_type": "stream",
          "name": "stdout",
          "text": [
            "root\n",
            " |-- CustomerId: integer (nullable = true)\n",
            " |-- Surname: string (nullable = true)\n",
            " |-- CreditScore: integer (nullable = true)\n",
            " |-- Geography: string (nullable = true)\n",
            " |-- Gender: string (nullable = true)\n",
            " |-- Age: integer (nullable = true)\n",
            " |-- Tenure: integer (nullable = true)\n",
            " |-- Balance: double (nullable = true)\n",
            " |-- NumOfProducts: integer (nullable = true)\n",
            " |-- HasCrCard: integer (nullable = true)\n",
            " |-- IsActiveMember: integer (nullable = true)\n",
            " |-- EstimatedSalary: double (nullable = true)\n",
            " |-- Exited: integer (nullable = true)\n",
            "\n"
          ]
        }
      ],
      "source": [
        "# These part is  for windows version, if you use ubuntu, remember to edit import pyspark part\n",
        "# ----\n",
        "import findspark\n",
        "findspark.init()\n",
        "findspark.find()\n",
        "import pyspark\n",
        "findspark.find()\n",
        "# ----\n",
        "from pyspark.sql import SparkSession\n",
        "spark = SparkSession.builder.appName(\"Churn_Modelling\").getOrCreate()\n",
        "df = spark.read.csv('public.csv',header=True,inferSchema=True)\n",
        "df.printSchema()"
      ]
    },
    {
      "cell_type": "markdown",
      "metadata": {
        "id": "w53urmdddkM-"
      },
      "source": [
        "# Do your work here"
      ]
    },
    {
      "cell_type": "code",
      "execution_count": 5,
      "metadata": {
        "id": "0t-rNruTdkM-"
      },
      "outputs": [],
      "source": [
        "import matplotlib.pyplot as plt\n",
        "from datetime import datetime\n",
        "from dateutil import parser\n",
        "from sklearn import preprocessing\n",
        "from pyspark.sql.functions import unix_timestamp, date_format, col, when\n",
        "from pyspark.ml import Pipeline\n",
        "from pyspark.ml import PipelineModel\n",
        "from pyspark.ml.linalg import Vectors\n",
        "from pyspark.ml.feature import MinMaxScaler, StandardScaler\n",
        "from pyspark.ml.feature import RFormula\n",
        "from pyspark.ml.feature import VectorAssembler\n",
        "from pyspark.ml.feature import OneHotEncoder, StringIndexer, VectorIndexer\n",
        "from pyspark.ml.classification import LogisticRegression\n",
        "from pyspark.ml.classification import DecisionTreeClassificationModel\n",
        "from pyspark.ml.classification import DecisionTreeClassifier\n",
        "from pyspark.ml.classification import RandomForestClassifier\n",
        "from pyspark.ml.classification import GBTClassifier\n",
        "from pyspark.ml.classification import LinearSVC\n",
        "from pyspark.mllib.evaluation import BinaryClassificationMetrics\n",
        "from pyspark.ml.evaluation import BinaryClassificationEvaluator\n",
        "from pyspark.ml.tuning import CrossValidator, ParamGridBuilder, RandomGridBuilder\n"
      ]
    },
    {
      "cell_type": "code",
      "source": [
        "df = df.drop('CustomerId', 'Surname')\n",
        "sI1 = StringIndexer(inputCol=\"Geography\", outputCol=\"GeographyIndex\")\n",
        "en1 = OneHotEncoder(dropLast=False, inputCol=\"GeographyIndex\", outputCol=\"GeographyVec\")\n",
        "sI2 = StringIndexer(inputCol=\"Gender\", outputCol=\"GenderIndex\")\n",
        "en2 = OneHotEncoder(dropLast=False, inputCol=\"GenderIndex\", outputCol=\"GenderVec\")\n"
      ],
      "metadata": {
        "id": "TRMZ7y_ncMal"
      },
      "execution_count": 6,
      "outputs": []
    },
    {
      "cell_type": "code",
      "source": [
        "encoded_final_df = Pipeline(stages=[sI1, en1, sI2, en2]).fit(df).transform(df)\n",
        "cols = list(encoded_final_df.columns) #Make a list of all of the columns in the df\n",
        "cols.pop(cols.index('Exited')) #Remove b from list\n",
        "encoded_final_df = encoded_final_df[cols+['Exited']] #Create new dataframe with columns in the order you want\n",
        "encoded_final_df.show()"
      ],
      "metadata": {
        "id": "t9Kb8kC3duVZ",
        "colab": {
          "base_uri": "https://localhost:8080/"
        },
        "outputId": "ddca95ec-b57b-475c-c2b2-5fc86adf8dcc"
      },
      "execution_count": 7,
      "outputs": [
        {
          "output_type": "stream",
          "name": "stdout",
          "text": [
            "+-----------+---------+------+---+------+---------+-------------+---------+--------------+---------------+--------------+-------------+-----------+-------------+------+\n",
            "|CreditScore|Geography|Gender|Age|Tenure|  Balance|NumOfProducts|HasCrCard|IsActiveMember|EstimatedSalary|GeographyIndex| GeographyVec|GenderIndex|    GenderVec|Exited|\n",
            "+-----------+---------+------+---+------+---------+-------------+---------+--------------+---------------+--------------+-------------+-----------+-------------+------+\n",
            "|        698|    Spain|Female| 39|     9|161993.89|            1|        0|             0|       90212.38|           2.0|(3,[2],[1.0])|        1.0|(2,[1],[1.0])|     0|\n",
            "|        612|    Spain|  Male| 35|     1|      0.0|            1|        1|             1|       83256.26|           2.0|(3,[2],[1.0])|        0.0|(2,[0],[1.0])|     1|\n",
            "|        745|  Germany|  Male| 48|    10| 96048.55|            1|        1|             0|       74510.65|           1.0|(3,[1],[1.0])|        0.0|(2,[0],[1.0])|     0|\n",
            "|        532|   France|  Male| 38|     9|      0.0|            2|        0|             0|       30583.95|           0.0|(3,[0],[1.0])|        0.0|(2,[0],[1.0])|     0|\n",
            "|        631|    Spain|  Male| 29|     3|      0.0|            2|        1|             1|      197963.46|           2.0|(3,[2],[1.0])|        0.0|(2,[0],[1.0])|     0|\n",
            "|        845|   France|Female| 28|     9|      0.0|            2|        1|             1|       56185.98|           0.0|(3,[0],[1.0])|        1.0|(2,[1],[1.0])|     0|\n",
            "|        653|   France|  Male| 44|     8|      0.0|            2|        1|             1|      154639.72|           0.0|(3,[0],[1.0])|        0.0|(2,[0],[1.0])|     0|\n",
            "|        497|  Germany|  Male| 41|     5| 80542.81|            1|        0|             0|       88729.22|           1.0|(3,[1],[1.0])|        0.0|(2,[0],[1.0])|     1|\n",
            "|        545|    Spain|Female| 32|     4|      0.0|            1|        1|             0|        94739.2|           2.0|(3,[2],[1.0])|        1.0|(2,[1],[1.0])|     0|\n",
            "|        596|   France|  Male| 39|     9|      0.0|            1|        1|             0|       48963.59|           0.0|(3,[0],[1.0])|        0.0|(2,[0],[1.0])|     0|\n",
            "|        526|   France|Female| 37|     5| 53573.18|            1|        1|             0|       62830.97|           0.0|(3,[0],[1.0])|        1.0|(2,[1],[1.0])|     0|\n",
            "|        618|   France|Female| 37|     5| 96652.86|            1|        1|             0|        98686.4|           0.0|(3,[0],[1.0])|        1.0|(2,[1],[1.0])|     1|\n",
            "|        580|  Germany|  Male| 44|     9|143391.07|            1|        0|             0|      146891.07|           1.0|(3,[1],[1.0])|        0.0|(2,[0],[1.0])|     1|\n",
            "|        787|   France|  Male| 25|     5|      0.0|            2|        1|             0|        47307.9|           0.0|(3,[0],[1.0])|        0.0|(2,[0],[1.0])|     0|\n",
            "|        761|   France|Female| 33|     6|138053.79|            2|        1|             0|      148779.41|           0.0|(3,[0],[1.0])|        1.0|(2,[1],[1.0])|     0|\n",
            "|        660|    Spain|Female| 42|     5|      0.0|            3|        1|             1|      189016.24|           2.0|(3,[2],[1.0])|        1.0|(2,[1],[1.0])|     1|\n",
            "|        515|   France|  Male| 48|     5|129387.94|            1|        0|             1|      147955.91|           0.0|(3,[0],[1.0])|        0.0|(2,[0],[1.0])|     1|\n",
            "|        586|    Spain|Female| 33|    10| 66948.67|            2|        1|             1|      140759.03|           2.0|(3,[2],[1.0])|        1.0|(2,[1],[1.0])|     0|\n",
            "|        683|  Germany|Female| 32|     0| 138171.1|            2|        1|             1|      188203.58|           1.0|(3,[1],[1.0])|        1.0|(2,[1],[1.0])|     0|\n",
            "|        487|   France|  Male| 45|     2|      0.0|            2|        1|             0|       77475.73|           0.0|(3,[0],[1.0])|        0.0|(2,[0],[1.0])|     0|\n",
            "+-----------+---------+------+---+------+---------+-------------+---------+--------------+---------------+--------------+-------------+-----------+-------------+------+\n",
            "only showing top 20 rows\n",
            "\n"
          ]
        }
      ]
    },
    {
      "cell_type": "code",
      "source": [
        "# Decide on the split between training and testing data from the DataFrame\n",
        "trainingFraction = 0.9\n",
        "testingFraction = (1-trainingFraction)\n",
        "seed = 7\n",
        "\n",
        "# Split the DataFrame into test and training DataFrames\n",
        "train_data_df, test_data_df = encoded_final_df.randomSplit([trainingFraction, testingFraction], seed=seed)"
      ],
      "metadata": {
        "id": "aZqoSsdfpaDS"
      },
      "execution_count": 8,
      "outputs": []
    },
    {
      "cell_type": "code",
      "source": [
        "def preprocess(df):\n",
        "  ## Create a Decision Tree model\n",
        "  # Create an assembler object\n",
        "  inputCols=[\n",
        "    'CreditScore', 'Age', 'Tenure',\n",
        "    'Balance', \n",
        "    'NumOfProducts',\n",
        "    'HasCrCard', 'IsActiveMember', 'EstimatedSalary', 'GenderVec', 'GeographyVec'\n",
        "  ]\n",
        "  \"\"\"\n",
        "  for c in inputCols:\n",
        "    standardizer = StandardScaler(inputCol=c, outputCol=c)\n",
        "    model = standardizer.fit(df)\n",
        "    df = model.transform(df)\n",
        "  \"\"\"\n",
        "  #df.show()\n",
        "  assembler = VectorAssembler(inputCols=inputCols, outputCol='features')\n",
        "  \n",
        "  # Consolidate predictor columns\n",
        "  trainingData = assembler.transform(df)\n",
        "  standardizer = StandardScaler(inputCol=\"features\", outputCol=\"features_scaled\")\n",
        "  model = standardizer.fit(trainingData)\n",
        "  trainingData = model.transform(trainingData)\n",
        "  trainingData.show()\n",
        "  return trainingData"
      ],
      "metadata": {
        "id": "sb3wHLd7R7a2"
      },
      "execution_count": 9,
      "outputs": []
    },
    {
      "cell_type": "code",
      "source": [
        "trainingData = preprocess(train_data_df)"
      ],
      "metadata": {
        "colab": {
          "base_uri": "https://localhost:8080/"
        },
        "id": "fzSvMst3U2i1",
        "outputId": "85e31788-68ca-467a-a07b-0ddfe59faf9d"
      },
      "execution_count": 10,
      "outputs": [
        {
          "output_type": "stream",
          "name": "stdout",
          "text": [
            "+-----------+---------+------+---+------+---------+-------------+---------+--------------+---------------+--------------+-------------+-----------+-------------+------+--------------------+--------------------+\n",
            "|CreditScore|Geography|Gender|Age|Tenure|  Balance|NumOfProducts|HasCrCard|IsActiveMember|EstimatedSalary|GeographyIndex| GeographyVec|GenderIndex|    GenderVec|Exited|            features|     features_scaled|\n",
            "+-----------+---------+------+---+------+---------+-------------+---------+--------------+---------------+--------------+-------------+-----------+-------------+------+--------------------+--------------------+\n",
            "|        350|   France|Female| 60|     3|      0.0|            1|        0|             0|      113796.15|           0.0|(3,[0],[1.0])|        1.0|(2,[1],[1.0])|     1|(13,[0,1,2,4,7,9,...|(13,[0,1,2,4,7,9,...|\n",
            "|        350|  Germany|  Male| 39|     0| 109733.2|            2|        0|             0|      123602.11|           1.0|(3,[1],[1.0])|        0.0|(2,[0],[1.0])|     1|(13,[0,1,3,4,7,8,...|(13,[0,1,3,4,7,8,...|\n",
            "|        350|    Spain|  Male| 54|     1|152677.48|            1|        1|             1|      191973.49|           2.0|(3,[2],[1.0])|        0.0|(2,[0],[1.0])|     1|[350.0,54.0,1.0,1...|[3.64346276187375...|\n",
            "|        351|  Germany|Female| 57|     4|163146.46|            1|        1|             0|      169621.69|           1.0|(3,[1],[1.0])|        1.0|(2,[1],[1.0])|     1|[351.0,57.0,4.0,1...|[3.65387265547910...|\n",
            "|        358|    Spain|Female| 52|     8|143542.36|            3|        1|             0|      141959.11|           2.0|(3,[2],[1.0])|        1.0|(2,[1],[1.0])|     1|[358.0,52.0,8.0,1...|[3.72674191071658...|\n",
            "|        363|    Spain|Female| 28|     6|146098.43|            3|        1|             0|      100615.14|           2.0|(3,[2],[1.0])|        1.0|(2,[1],[1.0])|     1|[363.0,28.0,6.0,1...|[3.77879137874334...|\n",
            "|        367|    Spain|  Male| 42|     6| 93608.28|            1|        1|             0|      168816.73|           2.0|(3,[2],[1.0])|        0.0|(2,[0],[1.0])|     1|[367.0,42.0,6.0,9...|[3.82043095316476...|\n",
            "|        373|   France|  Male| 42|     7|      0.0|            1|        1|             0|       77786.37|           0.0|(3,[0],[1.0])|        0.0|(2,[0],[1.0])|     1|[373.0,42.0,7.0,0...|[3.88289031479688...|\n",
            "|        376|   France|Female| 46|     6|      0.0|            1|        1|             0|      157333.69|           0.0|(3,[0],[1.0])|        1.0|(2,[1],[1.0])|     1|[376.0,46.0,6.0,0...|[3.91411999561294...|\n",
            "|        376|  Germany|Female| 29|     4|115046.74|            4|        1|             0|      119346.88|           1.0|(3,[1],[1.0])|        1.0|(2,[1],[1.0])|     1|[376.0,29.0,4.0,1...|[3.91411999561294...|\n",
            "|        382|    Spain|  Male| 36|     0|      0.0|            1|        1|             1|      179540.73|           2.0|(3,[2],[1.0])|        0.0|(2,[0],[1.0])|     1|[382.0,36.0,0.0,0...|[3.97657935724506...|\n",
            "|        383|    Spain|Female| 48|     8| 95808.19|            1|        0|             0|      137702.01|           2.0|(3,[2],[1.0])|        1.0|(2,[1],[1.0])|     1|[383.0,48.0,8.0,9...|[3.98698925085042...|\n",
            "|        395|  Germany|Female| 34|     5|106011.59|            1|        1|             1|       17376.57|           1.0|(3,[1],[1.0])|        1.0|(2,[1],[1.0])|     1|[395.0,34.0,5.0,1...|[4.11190797411466...|\n",
            "|        401|  Germany|  Male| 48|     8|128140.17|            1|        1|             0|      175753.55|           1.0|(3,[1],[1.0])|        0.0|(2,[0],[1.0])|     1|[401.0,48.0,8.0,1...|[4.17436733574678...|\n",
            "|        404|  Germany|Female| 54|     4|125456.07|            1|        1|             0|       83715.66|           1.0|(3,[1],[1.0])|        1.0|(2,[1],[1.0])|     1|[404.0,54.0,4.0,1...|[4.20559701656284...|\n",
            "|        408|   France|  Male| 40|     3|      0.0|            2|        0|             0|      124874.23|           0.0|(3,[0],[1.0])|        0.0|(2,[0],[1.0])|     0|(13,[0,1,2,4,7,8,...|(13,[0,1,2,4,7,8,...|\n",
            "|        410|   France|Female| 35|     7|117183.74|            1|        1|             1|      109733.73|           0.0|(3,[0],[1.0])|        1.0|(2,[1],[1.0])|     0|[410.0,35.0,7.0,1...|[4.26805637819496...|\n",
            "|        410|  Germany|Female| 50|     2|102278.79|            2|        1|             0|       89822.48|           1.0|(3,[1],[1.0])|        1.0|(2,[1],[1.0])|     0|[410.0,50.0,2.0,1...|[4.26805637819496...|\n",
            "|        411|   France|Female| 35|     2|      0.0|            2|        1|             1|       93825.78|           0.0|(3,[0],[1.0])|        1.0|(2,[1],[1.0])|     0|[411.0,35.0,2.0,0...|[4.27846627180032...|\n",
            "|        411|   France|Female| 54|     9|      0.0|            1|        0|             1|       76621.49|           0.0|(3,[0],[1.0])|        1.0|(2,[1],[1.0])|     0|[411.0,54.0,9.0,0...|[4.27846627180032...|\n",
            "+-----------+---------+------+---+------+---------+-------------+---------+--------------+---------------+--------------+-------------+-----------+-------------+------+--------------------+--------------------+\n",
            "only showing top 20 rows\n",
            "\n"
          ]
        }
      ]
    },
    {
      "cell_type": "code",
      "source": [
        "## Create a new logistic regression object for the model\n",
        "logReg = LogisticRegression(maxIter=100, featuresCol=\"features_scaled\", regParam=0.01, elasticNetParam=0.08, labelCol = 'Exited')\n",
        "\n",
        "## The formula for the model\n",
        "#classFormula = RFormula(formula=\"Exited ~ CreditScore + Age + Tenure + Balance + NumOfProducts + HasCrCard + IsActiveMember + EstimatedSalary + GeographyIndex + GenderIndex\")\n",
        "classFormula = RFormula(formula=\"Exited ~ features_scaled\")\n",
        "## Undertake training and create a logistic regression model\n",
        "lrModel = Pipeline(stages=[logReg]).fit(trainingData)\n",
        "\n",
        "#lrModel = Pipeline(stages=[classFormula, logReg]).fit(train_data_df)\n",
        "## Saving the model is optional, but it's another form of inter-session cache\n",
        "\"\"\"\n",
        "datestamp = datetime.now().strftime('%m-%d-%Y-%s')\n",
        "fileName = \"lrModel_\" + datestamp\n",
        "logRegDirfilename = fileName\n",
        "lrModel.save(logRegDirfilename)\n",
        "\"\"\""
      ],
      "metadata": {
        "colab": {
          "base_uri": "https://localhost:8080/",
          "height": 35
        },
        "id": "Rq2DsjFhpkJe",
        "outputId": "a2c56d40-2419-48f6-9eaa-c04424f239f9"
      },
      "execution_count": 11,
      "outputs": [
        {
          "output_type": "execute_result",
          "data": {
            "text/plain": [
              "'\\ndatestamp = datetime.now().strftime(\\'%m-%d-%Y-%s\\')\\nfileName = \"lrModel_\" + datestamp\\nlogRegDirfilename = fileName\\nlrModel.save(logRegDirfilename)\\n'"
            ],
            "application/vnd.google.colaboratory.intrinsic+json": {
              "type": "string"
            }
          },
          "metadata": {},
          "execution_count": 11
        }
      ]
    },
    {
      "cell_type": "code",
      "source": [
        "\n",
        "# Check the resulting column\n",
        "trainingData.select('features_scaled', 'Exited').show(5, truncate=False)\n",
        "#dt = RandomForestClassifier(labelCol=\"Exited\", featuresCol=\"features_scaled\", seed=42)\n",
        "dt = GBTClassifier(labelCol=\"Exited\", featuresCol=\"features_scaled\", maxIter=50, maxDepth=10, maxBins=60, seed=42)\n",
        "#dt = LinearSVC(labelCol='label', maxIter=50, regParam=0.1)\n",
        "dt_model = Pipeline(stages=[dt]).fit(trainingData)\n",
        "\"\"\"\n",
        "grid = (ParamGridBuilder()\n",
        "             .addGrid(dt.maxDepth, [10])\n",
        "             .addGrid(dt.maxBins, [60])\n",
        "             .addGrid(dt.maxIter, [50])\n",
        "             .build())\n",
        "\n",
        "\n",
        "grid = (ParamGridBuilder()\n",
        "  .addGrid(dt.numTrees, [100, 200, 500])\n",
        "  .addGrid(dt.maxDepth, [7, 8, 9])\n",
        "  .build())\n",
        "\n",
        "evaluator = BinaryClassificationEvaluator(labelCol=\"Exited\")\n",
        "cv = CrossValidator(estimator=dt_model, estimatorParamMaps=grid, evaluator=evaluator, parallelism=2)\n",
        "dt_model = cv.fit(trainingData)\n",
        "\"\"\""
      ],
      "metadata": {
        "colab": {
          "base_uri": "https://localhost:8080/",
          "height": 281
        },
        "id": "6JCNmY87tLCP",
        "outputId": "066a31fe-15b9-4c7b-a558-b663bfe43a37"
      },
      "execution_count": 68,
      "outputs": [
        {
          "output_type": "stream",
          "name": "stdout",
          "text": [
            "+---------------------------------------------------------------------------------------------------------------------------------------------------------------------------------------------------------+------+\n",
            "|features_scaled                                                                                                                                                                                          |Exited|\n",
            "+---------------------------------------------------------------------------------------------------------------------------------------------------------------------------------------------------------+------+\n",
            "|(13,[0,1,2,4,7,9,10],[3.643462761873753,5.74975388084461,1.0389902259687125,1.714097918925072,1.9782601280635217,2.0071133986114615,1.9998887515473083])                                                 |1     |\n",
            "|(13,[0,1,3,4,7,8,11],[3.643462761873753,3.737340022548996,1.7575275927945195,3.428195837850144,2.148729337130663,2.0071133986114615,2.3116054328979483])                                                 |1     |\n",
            "|[3.643462761873753,5.174778492760148,0.34633007532290416,2.4453390942607474,1.714097918925072,2.1955556158058562,2.0002741094672145,3.3373141438634013,2.0071133986114615,0.0,0.0,0.0,2.3150716355849577]|1     |\n",
            "|[3.6538726554791063,5.4622661868023785,1.3853203012916167,2.6130141572172083,1.714097918925072,2.1955556158058562,0.0,2.948744981106575,0.0,2.0071133986114615,0.0,2.3116054328979483,0.0]               |1     |\n",
            "|[3.7267419107165813,4.983120030065328,2.7706406025832333,2.299027627325589,5.142293756775216,2.1955556158058562,0.0,2.4678519187897265,0.0,2.0071133986114615,0.0,0.0,2.3150716355849577]                |1     |\n",
            "+---------------------------------------------------------------------------------------------------------------------------------------------------------------------------------------------------------+------+\n",
            "only showing top 5 rows\n",
            "\n"
          ]
        },
        {
          "output_type": "execute_result",
          "data": {
            "text/plain": [
              "'\\ngrid = (ParamGridBuilder()\\n             .addGrid(dt.maxDepth, [10])\\n             .addGrid(dt.maxBins, [60])\\n             .addGrid(dt.maxIter, [50])\\n             .build())\\n\\n\\ngrid = (ParamGridBuilder()\\n  .addGrid(dt.numTrees, [100, 200, 500])\\n  .addGrid(dt.maxDepth, [7, 8, 9])\\n  .build())\\n\\nevaluator = BinaryClassificationEvaluator(labelCol=\"Exited\")\\ncv = CrossValidator(estimator=dt_model, estimatorParamMaps=grid, evaluator=evaluator, parallelism=2)\\ndt_model = cv.fit(trainingData)\\n'"
            ],
            "application/vnd.google.colaboratory.intrinsic+json": {
              "type": "string"
            }
          },
          "metadata": {},
          "execution_count": 68
        }
      ]
    },
    {
      "cell_type": "code",
      "source": [
        "#list(zip(dt_model.avgMetrics, grid))"
      ],
      "metadata": {
        "colab": {
          "base_uri": "https://localhost:8080/"
        },
        "id": "1Y7eR4DpTlhE",
        "outputId": "0410b1f4-3f94-4516-f1aa-07351409b230"
      },
      "execution_count": 58,
      "outputs": [
        {
          "output_type": "execute_result",
          "data": {
            "text/plain": [
              "[(0.8542405863227363,\n",
              "  {Param(parent='RandomForestClassifier_25f40061c38b', name='maxDepth', doc='Maximum depth of the tree. (>= 0) E.g., depth 0 means 1 leaf node; depth 1 means 1 internal node + 2 leaf nodes. Must be in range [0, 30].'): 7,\n",
              "   Param(parent='RandomForestClassifier_25f40061c38b', name='numTrees', doc='Number of trees to train (>= 1).'): 100}),\n",
              " (0.8579657203090585,\n",
              "  {Param(parent='RandomForestClassifier_25f40061c38b', name='maxDepth', doc='Maximum depth of the tree. (>= 0) E.g., depth 0 means 1 leaf node; depth 1 means 1 internal node + 2 leaf nodes. Must be in range [0, 30].'): 8,\n",
              "   Param(parent='RandomForestClassifier_25f40061c38b', name='numTrees', doc='Number of trees to train (>= 1).'): 100}),\n",
              " (0.8588296902904078,\n",
              "  {Param(parent='RandomForestClassifier_25f40061c38b', name='maxDepth', doc='Maximum depth of the tree. (>= 0) E.g., depth 0 means 1 leaf node; depth 1 means 1 internal node + 2 leaf nodes. Must be in range [0, 30].'): 9,\n",
              "   Param(parent='RandomForestClassifier_25f40061c38b', name='numTrees', doc='Number of trees to train (>= 1).'): 100}),\n",
              " (0.8549038162837885,\n",
              "  {Param(parent='RandomForestClassifier_25f40061c38b', name='maxDepth', doc='Maximum depth of the tree. (>= 0) E.g., depth 0 means 1 leaf node; depth 1 means 1 internal node + 2 leaf nodes. Must be in range [0, 30].'): 7,\n",
              "   Param(parent='RandomForestClassifier_25f40061c38b', name='numTrees', doc='Number of trees to train (>= 1).'): 200}),\n",
              " (0.8586790647944769,\n",
              "  {Param(parent='RandomForestClassifier_25f40061c38b', name='maxDepth', doc='Maximum depth of the tree. (>= 0) E.g., depth 0 means 1 leaf node; depth 1 means 1 internal node + 2 leaf nodes. Must be in range [0, 30].'): 8,\n",
              "   Param(parent='RandomForestClassifier_25f40061c38b', name='numTrees', doc='Number of trees to train (>= 1).'): 200}),\n",
              " (0.860414777660123,\n",
              "  {Param(parent='RandomForestClassifier_25f40061c38b', name='maxDepth', doc='Maximum depth of the tree. (>= 0) E.g., depth 0 means 1 leaf node; depth 1 means 1 internal node + 2 leaf nodes. Must be in range [0, 30].'): 9,\n",
              "   Param(parent='RandomForestClassifier_25f40061c38b', name='numTrees', doc='Number of trees to train (>= 1).'): 200}),\n",
              " (0.8548809333028642,\n",
              "  {Param(parent='RandomForestClassifier_25f40061c38b', name='maxDepth', doc='Maximum depth of the tree. (>= 0) E.g., depth 0 means 1 leaf node; depth 1 means 1 internal node + 2 leaf nodes. Must be in range [0, 30].'): 7,\n",
              "   Param(parent='RandomForestClassifier_25f40061c38b', name='numTrees', doc='Number of trees to train (>= 1).'): 500}),\n",
              " (0.8591300298861057,\n",
              "  {Param(parent='RandomForestClassifier_25f40061c38b', name='maxDepth', doc='Maximum depth of the tree. (>= 0) E.g., depth 0 means 1 leaf node; depth 1 means 1 internal node + 2 leaf nodes. Must be in range [0, 30].'): 8,\n",
              "   Param(parent='RandomForestClassifier_25f40061c38b', name='numTrees', doc='Number of trees to train (>= 1).'): 500}),\n",
              " (0.860424833699049,\n",
              "  {Param(parent='RandomForestClassifier_25f40061c38b', name='maxDepth', doc='Maximum depth of the tree. (>= 0) E.g., depth 0 means 1 leaf node; depth 1 means 1 internal node + 2 leaf nodes. Must be in range [0, 30].'): 9,\n",
              "   Param(parent='RandomForestClassifier_25f40061c38b', name='numTrees', doc='Number of trees to train (>= 1).'): 500})]"
            ]
          },
          "metadata": {},
          "execution_count": 58
        }
      ]
    },
    {
      "cell_type": "code",
      "source": [
        "def predict(model, data):\n",
        "  predictions = model.transform(data)\n",
        "  predictions.show()\n",
        "  predictions = predictions.withColumn('Exited', predictions.Exited.cast('float'))\n",
        "  predictionAndLabels = predictions.select(\"Exited\",\"prediction\").rdd\n",
        "  metrics = BinaryClassificationMetrics(predictionAndLabels)\n",
        "  print(f\"{model} Area under ROC = {metrics.areaUnderROC}\" )\n",
        "  return predictions\n"
      ],
      "metadata": {
        "id": "wP0Kob9kWJdj"
      },
      "execution_count": 28,
      "outputs": []
    },
    {
      "cell_type": "code",
      "source": [
        "testingData = preprocess(test_data_df)\n",
        "## Predict tip 1/0 (yes/no) on the test dataset; evaluation using area under ROC\n",
        "## Predict tip 1/0 (yes/no) on the test dataset; evaluation using area under ROC\n",
        "predict(lrModel, testingData)\n",
        "predict(dt_model, testingData)"
      ],
      "metadata": {
        "colab": {
          "base_uri": "https://localhost:8080/"
        },
        "id": "udPVrLbmRbT7",
        "outputId": "160e7d52-357e-4347-9930-7e16c45192f2"
      },
      "execution_count": 69,
      "outputs": [
        {
          "output_type": "stream",
          "name": "stdout",
          "text": [
            "+-----------+---------+------+---+------+---------+-------------+---------+--------------+---------------+--------------+-------------+-----------+-------------+------+--------------------+--------------------+\n",
            "|CreditScore|Geography|Gender|Age|Tenure|  Balance|NumOfProducts|HasCrCard|IsActiveMember|EstimatedSalary|GeographyIndex| GeographyVec|GenderIndex|    GenderVec|Exited|            features|     features_scaled|\n",
            "+-----------+---------+------+---+------+---------+-------------+---------+--------------+---------------+--------------+-------------+-----------+-------------+------+--------------------+--------------------+\n",
            "|        359|   France|Female| 44|     6|128747.69|            1|        1|             0|      146955.71|           0.0|(3,[0],[1.0])|        1.0|(2,[1],[1.0])|     1|[359.0,44.0,6.0,1...|[3.55224507950373...|\n",
            "|        365|  Germany|  Male| 30|     0|127760.07|            1|        1|             0|       81537.85|           1.0|(3,[1],[1.0])|        0.0|(2,[0],[1.0])|     1|[365.0,30.0,0.0,1...|[3.61161407804697...|\n",
            "|        386|    Spain|Female| 53|     1|131955.07|            1|        1|             1|       62514.65|           2.0|(3,[2],[1.0])|        1.0|(2,[1],[1.0])|     1|[386.0,53.0,1.0,1...|[3.81940557294830...|\n",
            "|        405|  Germany|  Male| 31|     5|133299.67|            2|        1|             1|       72950.14|           1.0|(3,[1],[1.0])|        0.0|(2,[0],[1.0])|     0|[405.0,31.0,5.0,1...|[4.00740740166856...|\n",
            "|        410|   France|  Male| 33|     6|125789.69|            1|        0|             0|       66333.56|           0.0|(3,[0],[1.0])|        0.0|(2,[0],[1.0])|     1|[410.0,33.0,6.0,1...|[4.05688156712125...|\n",
            "|        414|    Spain|  Male| 60|     3|      0.0|            2|        1|             1|       93844.82|           2.0|(3,[2],[1.0])|        0.0|(2,[0],[1.0])|     0|[414.0,60.0,3.0,0...|[4.09646089948341...|\n",
            "|        419|    Spain|Female| 27|     2|121580.42|            1|        0|             1|      134720.51|           2.0|(3,[2],[1.0])|        1.0|(2,[1],[1.0])|     0|[419.0,27.0,2.0,1...|[4.14593506493611...|\n",
            "|        420|    Spain|Female| 55|     4| 91893.32|            1|        1|             0|      144870.28|           2.0|(3,[2],[1.0])|        1.0|(2,[1],[1.0])|     1|[420.0,55.0,4.0,9...|[4.15582989802665...|\n",
            "|        421|   France|  Male| 34|     2|      0.0|            2|        1|             1|       96615.23|           0.0|(3,[0],[1.0])|        0.0|(2,[0],[1.0])|     0|[421.0,34.0,2.0,0...|[4.16572473111719...|\n",
            "|        422|   France|Female| 33|     2|      0.0|            2|        1|             0|      102655.31|           0.0|(3,[0],[1.0])|        1.0|(2,[1],[1.0])|     0|[422.0,33.0,2.0,0...|[4.17561956420773...|\n",
            "|        430|   France|Female| 33|     8|      0.0|            1|        1|             1|       69759.91|           0.0|(3,[0],[1.0])|        1.0|(2,[1],[1.0])|     0|[430.0,33.0,8.0,0...|[4.25477822893205...|\n",
            "|        430|   France|  Male| 38|     9|      0.0|            2|        1|             1|       12050.77|           0.0|(3,[0],[1.0])|        0.0|(2,[0],[1.0])|     0|[430.0,38.0,9.0,0...|[4.25477822893205...|\n",
            "|        430|  Germany|  Male| 49|     3|137115.16|            1|        1|             0|      146516.86|           1.0|(3,[1],[1.0])|        0.0|(2,[0],[1.0])|     1|[430.0,49.0,3.0,1...|[4.25477822893205...|\n",
            "|        435|  Germany|  Male| 37|     8| 114346.3|            1|        0|             1|         980.93|           1.0|(3,[1],[1.0])|        0.0|(2,[0],[1.0])|     1|[435.0,37.0,8.0,1...|[4.30425239438475...|\n",
            "|        438|   France|  Male| 60|     7| 78391.17|            1|        0|             1|        49424.6|           0.0|(3,[0],[1.0])|        0.0|(2,[0],[1.0])|     0|[438.0,60.0,7.0,7...|[4.33393689365637...|\n",
            "|        439|   France|Female| 43|     8|      0.0|            1|        0|             1|       104889.3|           0.0|(3,[0],[1.0])|        1.0|(2,[1],[1.0])|     0|[439.0,43.0,8.0,0...|[4.34383172674690...|\n",
            "|        445|  Germany|Female| 61|     2|137655.31|            1|        0|             1|       29909.84|           1.0|(3,[1],[1.0])|        1.0|(2,[1],[1.0])|     0|[445.0,61.0,2.0,1...|[4.40320072529014...|\n",
            "|        451|    Spain|Female| 23|     9|      0.0|            2|        0|             1|       48021.71|           2.0|(3,[2],[1.0])|        1.0|(2,[1],[1.0])|     0|[451.0,23.0,9.0,0...|[4.46256972383338...|\n",
            "|        452|   France|Female| 35|     8|      0.0|            2|        1|             1|      149614.81|           0.0|(3,[0],[1.0])|        1.0|(2,[1],[1.0])|     0|[452.0,35.0,8.0,0...|[4.47246455692392...|\n",
            "|        452|    Spain|  Male| 44|     3| 88915.85|            1|        1|             0|       69697.74|           2.0|(3,[2],[1.0])|        0.0|(2,[0],[1.0])|     0|[452.0,44.0,3.0,8...|[4.47246455692392...|\n",
            "+-----------+---------+------+---+------+---------+-------------+---------+--------------+---------------+--------------+-------------+-----------+-------------+------+--------------------+--------------------+\n",
            "only showing top 20 rows\n",
            "\n",
            "+-----------+---------+------+---+------+---------+-------------+---------+--------------+---------------+--------------+-------------+-----------+-------------+------+--------------------+--------------------+--------------------+--------------------+----------+\n",
            "|CreditScore|Geography|Gender|Age|Tenure|  Balance|NumOfProducts|HasCrCard|IsActiveMember|EstimatedSalary|GeographyIndex| GeographyVec|GenderIndex|    GenderVec|Exited|            features|     features_scaled|       rawPrediction|         probability|prediction|\n",
            "+-----------+---------+------+---+------+---------+-------------+---------+--------------+---------------+--------------+-------------+-----------+-------------+------+--------------------+--------------------+--------------------+--------------------+----------+\n",
            "|        359|   France|Female| 44|     6|128747.69|            1|        1|             0|      146955.71|           0.0|(3,[0],[1.0])|        1.0|(2,[1],[1.0])|     1|[359.0,44.0,6.0,1...|[3.55224507950373...|[0.41586628722491...|[0.60249366679920...|       0.0|\n",
            "|        365|  Germany|  Male| 30|     0|127760.07|            1|        1|             0|       81537.85|           1.0|(3,[1],[1.0])|        0.0|(2,[0],[1.0])|     1|[365.0,30.0,0.0,1...|[3.61161407804697...|[0.98382889756443...|[0.72786729231006...|       0.0|\n",
            "|        386|    Spain|Female| 53|     1|131955.07|            1|        1|             1|       62514.65|           2.0|(3,[2],[1.0])|        1.0|(2,[1],[1.0])|     1|[386.0,53.0,1.0,1...|[3.81940557294830...|[0.64537434582171...|[0.65596732633081...|       0.0|\n",
            "|        405|  Germany|  Male| 31|     5|133299.67|            2|        1|             1|       72950.14|           1.0|(3,[1],[1.0])|        0.0|(2,[0],[1.0])|     0|[405.0,31.0,5.0,1...|[4.00740740166856...|[2.05313218178621...|[0.88626372587388...|       0.0|\n",
            "|        410|   France|  Male| 33|     6|125789.69|            1|        0|             0|       66333.56|           0.0|(3,[0],[1.0])|        0.0|(2,[0],[1.0])|     1|[410.0,33.0,6.0,1...|[4.05688156712125...|[1.65599734701627...|[0.83969996250503...|       0.0|\n",
            "|        414|    Spain|  Male| 60|     3|      0.0|            2|        1|             1|       93844.82|           2.0|(3,[2],[1.0])|        0.0|(2,[0],[1.0])|     0|[414.0,60.0,3.0,0...|[4.09646089948341...|[1.10278518168223...|[0.75078160092172...|       0.0|\n",
            "|        419|    Spain|Female| 27|     2|121580.42|            1|        0|             1|      134720.51|           2.0|(3,[2],[1.0])|        1.0|(2,[1],[1.0])|     0|[419.0,27.0,2.0,1...|[4.14593506493611...|[2.42238119807996...|[0.91851813721689...|       0.0|\n",
            "|        420|    Spain|Female| 55|     4| 91893.32|            1|        1|             0|      144870.28|           2.0|(3,[2],[1.0])|        1.0|(2,[1],[1.0])|     1|[420.0,55.0,4.0,9...|[4.15582989802665...|[-0.2628021272172...|[0.43467500844779...|       1.0|\n",
            "|        421|   France|  Male| 34|     2|      0.0|            2|        1|             1|       96615.23|           0.0|(3,[0],[1.0])|        0.0|(2,[0],[1.0])|     0|[421.0,34.0,2.0,0...|[4.16572473111719...|[2.86815519325829...|[0.94624959593458...|       0.0|\n",
            "|        422|   France|Female| 33|     2|      0.0|            2|        1|             0|      102655.31|           0.0|(3,[0],[1.0])|        1.0|(2,[1],[1.0])|     0|[422.0,33.0,2.0,0...|[4.17561956420773...|[1.56829931394326...|[0.82754102685261...|       0.0|\n",
            "|        430|   France|Female| 33|     8|      0.0|            1|        1|             1|       69759.91|           0.0|(3,[0],[1.0])|        1.0|(2,[1],[1.0])|     0|[430.0,33.0,8.0,0...|[4.25477822893205...|[2.50848891379125...|[0.92473478584851...|       0.0|\n",
            "|        430|   France|  Male| 38|     9|      0.0|            2|        1|             1|       12050.77|           0.0|(3,[0],[1.0])|        0.0|(2,[0],[1.0])|     0|[430.0,38.0,9.0,0...|[4.25477822893205...|[2.77006468766313...|[0.94103657594507...|       0.0|\n",
            "|        430|  Germany|  Male| 49|     3|137115.16|            1|        1|             0|      146516.86|           1.0|(3,[1],[1.0])|        0.0|(2,[0],[1.0])|     1|[430.0,49.0,3.0,1...|[4.25477822893205...|[-0.2569056779800...|[0.43612451264606...|       1.0|\n",
            "|        435|  Germany|  Male| 37|     8| 114346.3|            1|        0|             1|         980.93|           1.0|(3,[1],[1.0])|        0.0|(2,[0],[1.0])|     1|[435.0,37.0,8.0,1...|[4.30425239438475...|[1.66739764734057...|[0.84122855150035...|       0.0|\n",
            "|        438|   France|  Male| 60|     7| 78391.17|            1|        0|             1|        49424.6|           0.0|(3,[0],[1.0])|        0.0|(2,[0],[1.0])|     0|[438.0,60.0,7.0,7...|[4.33393689365637...|[0.90679053906271...|[0.71234295906311...|       0.0|\n",
            "|        439|   France|Female| 43|     8|      0.0|            1|        0|             1|       104889.3|           0.0|(3,[0],[1.0])|        1.0|(2,[1],[1.0])|     0|[439.0,43.0,8.0,0...|[4.34383172674690...|[1.80478045091905...|[0.85872986051965...|       0.0|\n",
            "|        445|  Germany|Female| 61|     2|137655.31|            1|        0|             1|       29909.84|           1.0|(3,[1],[1.0])|        1.0|(2,[1],[1.0])|     0|[445.0,61.0,2.0,1...|[4.40320072529014...|[-0.5844413502859...|[0.35791128058458...|       1.0|\n",
            "|        451|    Spain|Female| 23|     9|      0.0|            2|        0|             1|       48021.71|           2.0|(3,[2],[1.0])|        1.0|(2,[1],[1.0])|     0|[451.0,23.0,9.0,0...|[4.46256972383338...|[3.29479986257472...|[0.96424998395766...|       0.0|\n",
            "|        452|   France|Female| 35|     8|      0.0|            2|        1|             1|      149614.81|           0.0|(3,[0],[1.0])|        1.0|(2,[1],[1.0])|     0|[452.0,35.0,8.0,0...|[4.47246455692392...|[2.46539154888442...|[0.92167974412753...|       0.0|\n",
            "|        452|    Spain|  Male| 44|     3| 88915.85|            1|        1|             0|       69697.74|           2.0|(3,[2],[1.0])|        0.0|(2,[0],[1.0])|     0|[452.0,44.0,3.0,8...|[4.47246455692392...|[0.96388634625457...|[0.72389924127575...|       0.0|\n",
            "+-----------+---------+------+---+------+---------+-------------+---------+--------------+---------------+--------------+-------------+-----------+-------------+------+--------------------+--------------------+--------------------+--------------------+----------+\n",
            "only showing top 20 rows\n",
            "\n"
          ]
        },
        {
          "output_type": "stream",
          "name": "stderr",
          "text": [
            "/usr/local/lib/python3.7/dist-packages/pyspark/sql/context.py:127: FutureWarning: Deprecated in 3.0.0. Use SparkSession.builder.getOrCreate() instead.\n",
            "  FutureWarning\n"
          ]
        },
        {
          "output_type": "stream",
          "name": "stdout",
          "text": [
            "PipelineModel_f40088c468eb Area under ROC = 0.7721693680996007\n",
            "+-----------+---------+------+---+------+---------+-------------+---------+--------------+---------------+--------------+-------------+-----------+-------------+------+--------------------+--------------------+--------------------+--------------------+----------+\n",
            "|CreditScore|Geography|Gender|Age|Tenure|  Balance|NumOfProducts|HasCrCard|IsActiveMember|EstimatedSalary|GeographyIndex| GeographyVec|GenderIndex|    GenderVec|Exited|            features|     features_scaled|       rawPrediction|         probability|prediction|\n",
            "+-----------+---------+------+---+------+---------+-------------+---------+--------------+---------------+--------------+-------------+-----------+-------------+------+--------------------+--------------------+--------------------+--------------------+----------+\n",
            "|        359|   France|Female| 44|     6|128747.69|            1|        1|             0|      146955.71|           0.0|(3,[0],[1.0])|        1.0|(2,[1],[1.0])|     1|[359.0,44.0,6.0,1...|[3.55224507950373...|[-0.5235977555788...|[0.25976400319387...|       1.0|\n",
            "|        365|  Germany|  Male| 30|     0|127760.07|            1|        1|             0|       81537.85|           1.0|(3,[1],[1.0])|        0.0|(2,[0],[1.0])|     1|[365.0,30.0,0.0,1...|[3.61161407804697...|[-0.2377722914655...|[0.38330475757811...|       1.0|\n",
            "|        386|    Spain|Female| 53|     1|131955.07|            1|        1|             1|       62514.65|           2.0|(3,[2],[1.0])|        1.0|(2,[1],[1.0])|     1|[386.0,53.0,1.0,1...|[3.81940557294830...|[-0.4432887322318...|[0.29181662324565...|       1.0|\n",
            "|        405|  Germany|  Male| 31|     5|133299.67|            2|        1|             1|       72950.14|           1.0|(3,[1],[1.0])|        0.0|(2,[0],[1.0])|     0|[405.0,31.0,5.0,1...|[4.00740740166856...|[1.93366080059953...|[0.97951413638883...|       0.0|\n",
            "|        410|   France|  Male| 33|     6|125789.69|            1|        0|             0|       66333.56|           0.0|(3,[0],[1.0])|        0.0|(2,[0],[1.0])|     1|[410.0,33.0,6.0,1...|[4.05688156712125...|[1.55390322462289...|[0.95721360738384...|       0.0|\n",
            "|        414|    Spain|  Male| 60|     3|      0.0|            2|        1|             1|       93844.82|           2.0|(3,[2],[1.0])|        0.0|(2,[0],[1.0])|     0|[414.0,60.0,3.0,0...|[4.09646089948341...|[1.79668722677014...|[0.97323093463559...|       0.0|\n",
            "|        419|    Spain|Female| 27|     2|121580.42|            1|        0|             1|      134720.51|           2.0|(3,[2],[1.0])|        1.0|(2,[1],[1.0])|     0|[419.0,27.0,2.0,1...|[4.14593506493611...|[1.12703338822080...|[0.90500075007267...|       0.0|\n",
            "|        420|    Spain|Female| 55|     4| 91893.32|            1|        1|             0|      144870.28|           2.0|(3,[2],[1.0])|        1.0|(2,[1],[1.0])|     1|[420.0,55.0,4.0,9...|[4.15582989802665...|[-1.7648744201101...|[0.02847753559574...|       1.0|\n",
            "|        421|   France|  Male| 34|     2|      0.0|            2|        1|             1|       96615.23|           0.0|(3,[0],[1.0])|        0.0|(2,[0],[1.0])|     0|[421.0,34.0,2.0,0...|[4.16572473111719...|[1.83294622726326...|[0.97505675059846...|       0.0|\n",
            "|        422|   France|Female| 33|     2|      0.0|            2|        1|             0|      102655.31|           0.0|(3,[0],[1.0])|        1.0|(2,[1],[1.0])|     0|[422.0,33.0,2.0,0...|[4.17561956420773...|[1.59615144196894...|[0.96054359145518...|       0.0|\n",
            "|        430|   France|Female| 33|     8|      0.0|            1|        1|             1|       69759.91|           0.0|(3,[0],[1.0])|        1.0|(2,[1],[1.0])|     0|[430.0,33.0,8.0,0...|[4.25477822893205...|[1.46419672773032...|[0.94923231100722...|       0.0|\n",
            "|        430|   France|  Male| 38|     9|      0.0|            2|        1|             1|       12050.77|           0.0|(3,[0],[1.0])|        0.0|(2,[0],[1.0])|     0|[430.0,38.0,9.0,0...|[4.25477822893205...|[1.67337713929338...|[0.96599838958872...|       0.0|\n",
            "|        430|  Germany|  Male| 49|     3|137115.16|            1|        1|             0|      146516.86|           1.0|(3,[1],[1.0])|        0.0|(2,[0],[1.0])|     1|[430.0,49.0,3.0,1...|[4.25477822893205...|[-0.2349151946370...|[0.38465638897851...|       1.0|\n",
            "|        435|  Germany|  Male| 37|     8| 114346.3|            1|        0|             1|         980.93|           1.0|(3,[1],[1.0])|        0.0|(2,[0],[1.0])|     1|[435.0,37.0,8.0,1...|[4.30425239438475...|[1.01145362200661...|[0.88318128989332...|       0.0|\n",
            "|        438|   France|  Male| 60|     7| 78391.17|            1|        0|             1|        49424.6|           0.0|(3,[0],[1.0])|        0.0|(2,[0],[1.0])|     0|[438.0,60.0,7.0,7...|[4.33393689365637...|[1.47766461089896...|[0.95051475880585...|       0.0|\n",
            "|        439|   France|Female| 43|     8|      0.0|            1|        0|             1|       104889.3|           0.0|(3,[0],[1.0])|        1.0|(2,[1],[1.0])|     0|[439.0,43.0,8.0,0...|[4.34383172674690...|[-0.9955956063260...|[0.12013089494404...|       1.0|\n",
            "|        445|  Germany|Female| 61|     2|137655.31|            1|        0|             1|       29909.84|           1.0|(3,[1],[1.0])|        1.0|(2,[1],[1.0])|     0|[445.0,61.0,2.0,1...|[4.40320072529014...|[-0.3442751169784...|[0.33435565848493...|       1.0|\n",
            "|        451|    Spain|Female| 23|     9|      0.0|            2|        0|             1|       48021.71|           2.0|(3,[2],[1.0])|        1.0|(2,[1],[1.0])|     0|[451.0,23.0,9.0,0...|[4.46256972383338...|[1.92096295551138...|[0.97899828749476...|       0.0|\n",
            "|        452|   France|Female| 35|     8|      0.0|            2|        1|             1|      149614.81|           0.0|(3,[0],[1.0])|        1.0|(2,[1],[1.0])|     0|[452.0,35.0,8.0,0...|[4.47246455692392...|[1.91312692129493...|[0.97867362919823...|       0.0|\n",
            "|        452|    Spain|  Male| 44|     3| 88915.85|            1|        1|             0|       69697.74|           2.0|(3,[2],[1.0])|        0.0|(2,[0],[1.0])|     0|[452.0,44.0,3.0,8...|[4.47246455692392...|[-0.0886811836864...|[0.45577528034561...|       1.0|\n",
            "+-----------+---------+------+---+------+---------+-------------+---------+--------------+---------------+--------------+-------------+-----------+-------------+------+--------------------+--------------------+--------------------+--------------------+----------+\n",
            "only showing top 20 rows\n",
            "\n",
            "PipelineModel_3ad298c595fa Area under ROC = 0.7712464175001462\n"
          ]
        },
        {
          "output_type": "execute_result",
          "data": {
            "text/plain": [
              "DataFrame[CreditScore: int, Geography: string, Gender: string, Age: int, Tenure: int, Balance: double, NumOfProducts: int, HasCrCard: int, IsActiveMember: int, EstimatedSalary: double, GeographyIndex: double, GeographyVec: vector, GenderIndex: double, GenderVec: vector, Exited: float, features: vector, features_scaled: vector, rawPrediction: vector, probability: vector, prediction: double]"
            ]
          },
          "metadata": {},
          "execution_count": 69
        }
      ]
    },
    {
      "cell_type": "markdown",
      "source": [
        "# Public Evaluation Part"
      ],
      "metadata": {
        "id": "0zgVEu5RdwZE"
      }
    },
    {
      "cell_type": "markdown",
      "source": [
        "## Load private dataset, the same structure as public dataset"
      ],
      "metadata": {
        "id": "mhkqVAz5eL7h"
      }
    },
    {
      "cell_type": "code",
      "source": [
        "df_private_evl = spark.read.csv('public.csv',header=True,inferSchema=True)  # TA takes public dataset as example"
      ],
      "metadata": {
        "id": "_yRnYPUleP-_"
      },
      "execution_count": 20,
      "outputs": []
    },
    {
      "cell_type": "markdown",
      "source": [
        "## Do prediction with your PySpark model here (**Very Important**)\n",
        "You must do prediction (inference) here.\n",
        "Then TA will know how to run your ML model to test private data."
      ],
      "metadata": {
        "id": "rqFr_yrdePTr"
      }
    },
    {
      "cell_type": "code",
      "source": [
        "sI1 = StringIndexer(inputCol=\"Geography\", outputCol=\"GeographyIndex\")\n",
        "en1 = OneHotEncoder(dropLast=False, inputCol=\"GeographyIndex\", outputCol=\"GeographyVec\")\n",
        "sI2 = StringIndexer(inputCol=\"Gender\", outputCol=\"GenderIndex\")\n",
        "en2 = OneHotEncoder(dropLast=False, inputCol=\"GenderIndex\", outputCol=\"GenderVec\")\n",
        "encoded_final_df = Pipeline(stages=[sI1, en1, sI2, en2]).fit(df_private_evl).transform(df_private_evl)\n",
        "encoded_final_df.show()\n"
      ],
      "metadata": {
        "colab": {
          "base_uri": "https://localhost:8080/"
        },
        "id": "WwZQi7klPAgE",
        "outputId": "8d40976e-7523-4068-923f-83702dbc9bfa"
      },
      "execution_count": 60,
      "outputs": [
        {
          "output_type": "stream",
          "name": "stdout",
          "text": [
            "+----------+--------+-----------+---------+------+---+------+---------+-------------+---------+--------------+---------------+------+--------------+-------------+-----------+-------------+\n",
            "|CustomerId| Surname|CreditScore|Geography|Gender|Age|Tenure|  Balance|NumOfProducts|HasCrCard|IsActiveMember|EstimatedSalary|Exited|GeographyIndex| GeographyVec|GenderIndex|    GenderVec|\n",
            "+----------+--------+-----------+---------+------+---+------+---------+-------------+---------+--------------+---------------+------+--------------+-------------+-----------+-------------+\n",
            "|  15565701|   Ferri|        698|    Spain|Female| 39|     9|161993.89|            1|        0|             0|       90212.38|     0|           2.0|(3,[2],[1.0])|        1.0|(2,[1],[1.0])|\n",
            "|  15565706|Akobundu|        612|    Spain|  Male| 35|     1|      0.0|            1|        1|             1|       83256.26|     1|           2.0|(3,[2],[1.0])|        0.0|(2,[0],[1.0])|\n",
            "|  15565796|Docherty|        745|  Germany|  Male| 48|    10| 96048.55|            1|        1|             0|       74510.65|     0|           1.0|(3,[1],[1.0])|        0.0|(2,[0],[1.0])|\n",
            "|  15565806|  Toosey|        532|   France|  Male| 38|     9|      0.0|            2|        0|             0|       30583.95|     0|           0.0|(3,[0],[1.0])|        0.0|(2,[0],[1.0])|\n",
            "|  15565878|   Bates|        631|    Spain|  Male| 29|     3|      0.0|            2|        1|             1|      197963.46|     0|           2.0|(3,[2],[1.0])|        0.0|(2,[0],[1.0])|\n",
            "|  15565879|   Riley|        845|   France|Female| 28|     9|      0.0|            2|        1|             1|       56185.98|     0|           0.0|(3,[0],[1.0])|        1.0|(2,[1],[1.0])|\n",
            "|  15565996|  Arnold|        653|   France|  Male| 44|     8|      0.0|            2|        1|             1|      154639.72|     0|           0.0|(3,[0],[1.0])|        0.0|(2,[0],[1.0])|\n",
            "|  15566030|      Tu|        497|  Germany|  Male| 41|     5| 80542.81|            1|        0|             0|       88729.22|     1|           1.0|(3,[1],[1.0])|        0.0|(2,[0],[1.0])|\n",
            "|  15566091| Thomsen|        545|    Spain|Female| 32|     4|      0.0|            1|        1|             0|        94739.2|     0|           2.0|(3,[2],[1.0])|        1.0|(2,[1],[1.0])|\n",
            "|  15566111|   Estes|        596|   France|  Male| 39|     9|      0.0|            1|        1|             0|       48963.59|     0|           0.0|(3,[0],[1.0])|        0.0|(2,[0],[1.0])|\n",
            "|  15566139|   Ts'ui|        526|   France|Female| 37|     5| 53573.18|            1|        1|             0|       62830.97|     0|           0.0|(3,[0],[1.0])|        1.0|(2,[1],[1.0])|\n",
            "|  15566251| Ferrari|        618|   France|Female| 37|     5| 96652.86|            1|        1|             0|        98686.4|     1|           0.0|(3,[0],[1.0])|        1.0|(2,[1],[1.0])|\n",
            "|  15566253| Manning|        580|  Germany|  Male| 44|     9|143391.07|            1|        0|             0|      146891.07|     1|           1.0|(3,[1],[1.0])|        0.0|(2,[0],[1.0])|\n",
            "|  15566269|Chialuka|        787|   France|  Male| 25|     5|      0.0|            2|        1|             0|        47307.9|     0|           0.0|(3,[0],[1.0])|        0.0|(2,[0],[1.0])|\n",
            "|  15566295| Sanders|        761|   France|Female| 33|     6|138053.79|            2|        1|             0|      148779.41|     0|           0.0|(3,[0],[1.0])|        1.0|(2,[1],[1.0])|\n",
            "|  15566312|   Jolly|        660|    Spain|Female| 42|     5|      0.0|            3|        1|             1|      189016.24|     1|           2.0|(3,[2],[1.0])|        1.0|(2,[1],[1.0])|\n",
            "|  15566378| Tillman|        515|   France|  Male| 48|     5|129387.94|            1|        0|             1|      147955.91|     1|           0.0|(3,[0],[1.0])|        0.0|(2,[0],[1.0])|\n",
            "|  15566380|   Drury|        586|    Spain|Female| 33|    10| 66948.67|            2|        1|             1|      140759.03|     0|           2.0|(3,[2],[1.0])|        1.0|(2,[1],[1.0])|\n",
            "|  15566467|  Hannah|        683|  Germany|Female| 32|     0| 138171.1|            2|        1|             1|      188203.58|     0|           1.0|(3,[1],[1.0])|        1.0|(2,[1],[1.0])|\n",
            "|  15566494|    Fang|        487|   France|  Male| 45|     2|      0.0|            2|        1|             0|       77475.73|     0|           0.0|(3,[0],[1.0])|        0.0|(2,[0],[1.0])|\n",
            "+----------+--------+-----------+---------+------+---+------+---------+-------------+---------+--------------+---------------+------+--------------+-------------+-----------+-------------+\n",
            "only showing top 20 rows\n",
            "\n"
          ]
        }
      ]
    },
    {
      "cell_type": "code",
      "source": [
        "testingData = preprocess(encoded_final_df)\n",
        "#predictions = predict(lrModel, testingData)\n",
        "predictions = predict(dt_model, testingData)"
      ],
      "metadata": {
        "id": "uTzZouvKeUDD",
        "colab": {
          "base_uri": "https://localhost:8080/"
        },
        "outputId": "67e9da83-704d-412f-addc-a3a9b75eefeb"
      },
      "execution_count": 70,
      "outputs": [
        {
          "output_type": "stream",
          "name": "stdout",
          "text": [
            "+----------+--------+-----------+---------+------+---+------+---------+-------------+---------+--------------+---------------+------+--------------+-------------+-----------+-------------+--------------------+--------------------+\n",
            "|CustomerId| Surname|CreditScore|Geography|Gender|Age|Tenure|  Balance|NumOfProducts|HasCrCard|IsActiveMember|EstimatedSalary|Exited|GeographyIndex| GeographyVec|GenderIndex|    GenderVec|            features|     features_scaled|\n",
            "+----------+--------+-----------+---------+------+---+------+---------+-------------+---------+--------------+---------------+------+--------------+-------------+-----------+-------------+--------------------+--------------------+\n",
            "|  15565701|   Ferri|        698|    Spain|Female| 39|     9|161993.89|            1|        0|             0|       90212.38|     0|           2.0|(3,[2],[1.0])|        1.0|(2,[1],[1.0])|[698.0,39.0,9.0,1...|[7.22717417597988...|\n",
            "|  15565706|Akobundu|        612|    Spain|  Male| 35|     1|      0.0|            1|        1|             1|       83256.26|     1|           2.0|(3,[2],[1.0])|        0.0|(2,[0],[1.0])|[612.0,35.0,1.0,0...|[6.33672005114569...|\n",
            "|  15565796|Docherty|        745|  Germany|  Male| 48|    10| 96048.55|            1|        1|             0|       74510.65|     0|           1.0|(3,[1],[1.0])|        0.0|(2,[0],[1.0])|[745.0,48.0,10.0,...|[7.71381770931950...|\n",
            "|  15565806|  Toosey|        532|   France|  Male| 38|     9|      0.0|            2|        0|             0|       30583.95|     0|           0.0|(3,[0],[1.0])|        0.0|(2,[0],[1.0])|(13,[0,1,2,4,7,8,...|(13,[0,1,2,4,7,8,...|\n",
            "|  15565878|   Bates|        631|    Spain|  Male| 29|     3|      0.0|            2|        1|             1|      197963.46|     0|           2.0|(3,[2],[1.0])|        0.0|(2,[0],[1.0])|[631.0,29.0,3.0,0...|[6.53344828802766...|\n",
            "|  15565879|   Riley|        845|   France|Female| 28|     9|      0.0|            2|        1|             1|       56185.98|     0|           0.0|(3,[0],[1.0])|        1.0|(2,[1],[1.0])|[845.0,28.0,9.0,0...|[8.74922948238253...|\n",
            "|  15565996|  Arnold|        653|   France|  Male| 44|     8|      0.0|            2|        1|             1|      154639.72|     0|           0.0|(3,[0],[1.0])|        0.0|(2,[0],[1.0])|[653.0,44.0,8.0,0...|[6.76123887810153...|\n",
            "|  15566030|      Tu|        497|  Germany|  Male| 41|     5| 80542.81|            1|        0|             0|       88729.22|     1|           1.0|(3,[1],[1.0])|        0.0|(2,[0],[1.0])|[497.0,41.0,5.0,8...|[5.14599651212321...|\n",
            "|  15566091| Thomsen|        545|    Spain|Female| 32|     4|      0.0|            1|        1|             0|        94739.2|     0|           2.0|(3,[2],[1.0])|        1.0|(2,[1],[1.0])|[545.0,32.0,4.0,0...|[5.64299416319346...|\n",
            "|  15566111|   Estes|        596|   France|  Male| 39|     9|      0.0|            1|        1|             0|       48963.59|     0|           0.0|(3,[0],[1.0])|        0.0|(2,[0],[1.0])|[596.0,39.0,9.0,0...|[6.17105416745560...|\n",
            "|  15566139|   Ts'ui|        526|   France|Female| 37|     5| 53573.18|            1|        1|             0|       62830.97|     0|           0.0|(3,[0],[1.0])|        1.0|(2,[1],[1.0])|[526.0,37.0,5.0,5...|[5.44626592631149...|\n",
            "|  15566251| Ferrari|        618|   France|Female| 37|     5| 96652.86|            1|        1|             0|        98686.4|     1|           0.0|(3,[0],[1.0])|        1.0|(2,[1],[1.0])|[618.0,37.0,5.0,9...|[6.39884475752947...|\n",
            "|  15566253| Manning|        580|  Germany|  Male| 44|     9|143391.07|            1|        0|             0|      146891.07|     1|           1.0|(3,[1],[1.0])|        0.0|(2,[0],[1.0])|[580.0,44.0,9.0,1...|[6.00538828376552...|\n",
            "|  15566269|Chialuka|        787|   France|  Male| 25|     5|      0.0|            2|        1|             0|        47307.9|     0|           0.0|(3,[0],[1.0])|        0.0|(2,[0],[1.0])|[787.0,25.0,5.0,0...|[8.14869065400597...|\n",
            "|  15566295| Sanders|        761|   France|Female| 33|     6|138053.79|            2|        1|             0|      148779.41|     0|           0.0|(3,[0],[1.0])|        1.0|(2,[1],[1.0])|[761.0,33.0,6.0,1...|[7.87948359300959...|\n",
            "|  15566312|   Jolly|        660|    Spain|Female| 42|     5|      0.0|            3|        1|             1|      189016.24|     1|           2.0|(3,[2],[1.0])|        1.0|(2,[1],[1.0])|[660.0,42.0,5.0,0...|[6.83371770221594...|\n",
            "|  15566378| Tillman|        515|   France|  Male| 48|     5|129387.94|            1|        0|             1|      147955.91|     1|           0.0|(3,[0],[1.0])|        0.0|(2,[0],[1.0])|[515.0,48.0,5.0,1...|[5.33237063127456...|\n",
            "|  15566380|   Drury|        586|    Spain|Female| 33|    10| 66948.67|            2|        1|             1|      140759.03|     0|           2.0|(3,[2],[1.0])|        1.0|(2,[1],[1.0])|[586.0,33.0,10.0,...|[6.06751299014930...|\n",
            "|  15566467|  Hannah|        683|  Germany|Female| 32|     0| 138171.1|            2|        1|             1|      188203.58|     0|           1.0|(3,[1],[1.0])|        1.0|(2,[1],[1.0])|[683.0,32.0,0.0,1...|[7.07186241002043...|\n",
            "|  15566494|    Fang|        487|   France|  Male| 45|     2|      0.0|            2|        1|             0|       77475.73|     0|           0.0|(3,[0],[1.0])|        0.0|(2,[0],[1.0])|[487.0,45.0,2.0,0...|[5.04245533481691...|\n",
            "+----------+--------+-----------+---------+------+---+------+---------+-------------+---------+--------------+---------------+------+--------------+-------------+-----------+-------------+--------------------+--------------------+\n",
            "only showing top 20 rows\n",
            "\n",
            "+----------+--------+-----------+---------+------+---+------+---------+-------------+---------+--------------+---------------+------+--------------+-------------+-----------+-------------+--------------------+--------------------+--------------------+--------------------+----------+\n",
            "|CustomerId| Surname|CreditScore|Geography|Gender|Age|Tenure|  Balance|NumOfProducts|HasCrCard|IsActiveMember|EstimatedSalary|Exited|GeographyIndex| GeographyVec|GenderIndex|    GenderVec|            features|     features_scaled|       rawPrediction|         probability|prediction|\n",
            "+----------+--------+-----------+---------+------+---+------+---------+-------------+---------+--------------+---------------+------+--------------+-------------+-----------+-------------+--------------------+--------------------+--------------------+--------------------+----------+\n",
            "|  15565701|   Ferri|        698|    Spain|Female| 39|     9|161993.89|            1|        0|             0|       90212.38|     0|           2.0|(3,[2],[1.0])|        1.0|(2,[1],[1.0])|[698.0,39.0,9.0,1...|[7.22717417597988...|[0.86411222634853...|[0.70351909965553...|       0.0|\n",
            "|  15565706|Akobundu|        612|    Spain|  Male| 35|     1|      0.0|            1|        1|             1|       83256.26|     1|           2.0|(3,[2],[1.0])|        0.0|(2,[0],[1.0])|[612.0,35.0,1.0,0...|[6.33672005114569...|[2.72299751472299...|[0.93837011289778...|       0.0|\n",
            "|  15565796|Docherty|        745|  Germany|  Male| 48|    10| 96048.55|            1|        1|             0|       74510.65|     0|           1.0|(3,[1],[1.0])|        0.0|(2,[0],[1.0])|[745.0,48.0,10.0,...|[7.71381770931950...|[0.20128765804588...|[0.55015269352432...|       0.0|\n",
            "|  15565806|  Toosey|        532|   France|  Male| 38|     9|      0.0|            2|        0|             0|       30583.95|     0|           0.0|(3,[0],[1.0])|        0.0|(2,[0],[1.0])|(13,[0,1,2,4,7,8,...|(13,[0,1,2,4,7,8,...|[1.84013119549522...|[0.86296422294547...|       0.0|\n",
            "|  15565878|   Bates|        631|    Spain|  Male| 29|     3|      0.0|            2|        1|             1|      197963.46|     0|           2.0|(3,[2],[1.0])|        0.0|(2,[0],[1.0])|[631.0,29.0,3.0,0...|[6.53344828802766...|[3.24649582568862...|[0.96254699073918...|       0.0|\n",
            "|  15565879|   Riley|        845|   France|Female| 28|     9|      0.0|            2|        1|             1|       56185.98|     0|           0.0|(3,[0],[1.0])|        1.0|(2,[1],[1.0])|[845.0,28.0,9.0,0...|[8.74922948238253...|[3.18848992183770...|[0.96039882768045...|       0.0|\n",
            "|  15565996|  Arnold|        653|   France|  Male| 44|     8|      0.0|            2|        1|             1|      154639.72|     0|           0.0|(3,[0],[1.0])|        0.0|(2,[0],[1.0])|[653.0,44.0,8.0,0...|[6.76123887810153...|[2.36319704007974...|[0.91397749810820...|       0.0|\n",
            "|  15566030|      Tu|        497|  Germany|  Male| 41|     5| 80542.81|            1|        0|             0|       88729.22|     1|           1.0|(3,[1],[1.0])|        0.0|(2,[0],[1.0])|[497.0,41.0,5.0,8...|[5.14599651212321...|[0.46054759389341...|[0.61314407258976...|       0.0|\n",
            "|  15566091| Thomsen|        545|    Spain|Female| 32|     4|      0.0|            1|        1|             0|        94739.2|     0|           2.0|(3,[2],[1.0])|        1.0|(2,[1],[1.0])|[545.0,32.0,4.0,0...|[5.64299416319346...|[1.58617920990641...|[0.83007786541946...|       0.0|\n",
            "|  15566111|   Estes|        596|   France|  Male| 39|     9|      0.0|            1|        1|             0|       48963.59|     0|           0.0|(3,[0],[1.0])|        0.0|(2,[0],[1.0])|[596.0,39.0,9.0,0...|[6.17105416745560...|[1.71283955199713...|[0.84720422455118...|       0.0|\n",
            "|  15566139|   Ts'ui|        526|   France|Female| 37|     5| 53573.18|            1|        1|             0|       62830.97|     0|           0.0|(3,[0],[1.0])|        1.0|(2,[1],[1.0])|[526.0,37.0,5.0,5...|[5.44626592631149...|[1.15209135978867...|[0.75989270500833...|       0.0|\n",
            "|  15566251| Ferrari|        618|   France|Female| 37|     5| 96652.86|            1|        1|             0|        98686.4|     1|           0.0|(3,[0],[1.0])|        1.0|(2,[1],[1.0])|[618.0,37.0,5.0,9...|[6.39884475752947...|[1.08284527089851...|[0.74703204671069...|       0.0|\n",
            "|  15566253| Manning|        580|  Germany|  Male| 44|     9|143391.07|            1|        0|             0|      146891.07|     1|           1.0|(3,[1],[1.0])|        0.0|(2,[0],[1.0])|[580.0,44.0,9.0,1...|[6.00538828376552...|[0.19743004564059...|[0.54919780989033...|       0.0|\n",
            "|  15566269|Chialuka|        787|   France|  Male| 25|     5|      0.0|            2|        1|             0|        47307.9|     0|           0.0|(3,[0],[1.0])|        0.0|(2,[0],[1.0])|[787.0,25.0,5.0,0...|[8.14869065400597...|[2.81642501342920...|[0.94355697424772...|       0.0|\n",
            "|  15566295| Sanders|        761|   France|Female| 33|     6|138053.79|            2|        1|             0|      148779.41|     0|           0.0|(3,[0],[1.0])|        1.0|(2,[1],[1.0])|[761.0,33.0,6.0,1...|[7.87948359300959...|[1.44205393086280...|[0.80877251290642...|       0.0|\n",
            "|  15566312|   Jolly|        660|    Spain|Female| 42|     5|      0.0|            3|        1|             1|      189016.24|     1|           2.0|(3,[2],[1.0])|        1.0|(2,[1],[1.0])|[660.0,42.0,5.0,0...|[6.83371770221594...|[2.07480756034598...|[0.88843038627126...|       0.0|\n",
            "|  15566378| Tillman|        515|   France|  Male| 48|     5|129387.94|            1|        0|             1|      147955.91|     1|           0.0|(3,[0],[1.0])|        0.0|(2,[0],[1.0])|[515.0,48.0,5.0,1...|[5.33237063127456...|[1.50484190402202...|[0.81829551886893...|       0.0|\n",
            "|  15566380|   Drury|        586|    Spain|Female| 33|    10| 66948.67|            2|        1|             1|      140759.03|     0|           2.0|(3,[2],[1.0])|        1.0|(2,[1],[1.0])|[586.0,33.0,10.0,...|[6.06751299014930...|[2.49007096751689...|[0.92344281993118...|       0.0|\n",
            "|  15566467|  Hannah|        683|  Germany|Female| 32|     0| 138171.1|            2|        1|             1|      188203.58|     0|           1.0|(3,[1],[1.0])|        1.0|(2,[1],[1.0])|[683.0,32.0,0.0,1...|[7.07186241002043...|[1.50544075086724...|[0.81838454321468...|       0.0|\n",
            "|  15566494|    Fang|        487|   France|  Male| 45|     2|      0.0|            2|        1|             0|       77475.73|     0|           0.0|(3,[0],[1.0])|        0.0|(2,[0],[1.0])|[487.0,45.0,2.0,0...|[5.04245533481691...|[1.20026984865127...|[0.76857278459539...|       0.0|\n",
            "+----------+--------+-----------+---------+------+---+------+---------+-------------+---------+--------------+---------------+------+--------------+-------------+-----------+-------------+--------------------+--------------------+--------------------+--------------------+----------+\n",
            "only showing top 20 rows\n",
            "\n"
          ]
        },
        {
          "output_type": "stream",
          "name": "stderr",
          "text": [
            "/usr/local/lib/python3.7/dist-packages/pyspark/sql/context.py:127: FutureWarning: Deprecated in 3.0.0. Use SparkSession.builder.getOrCreate() instead.\n",
            "  FutureWarning\n"
          ]
        },
        {
          "output_type": "stream",
          "name": "stdout",
          "text": [
            "PipelineModel_f40088c468eb Area under ROC = 0.7253409775125004\n",
            "+----------+--------+-----------+---------+------+---+------+---------+-------------+---------+--------------+---------------+------+--------------+-------------+-----------+-------------+--------------------+--------------------+--------------------+--------------------+----------+\n",
            "|CustomerId| Surname|CreditScore|Geography|Gender|Age|Tenure|  Balance|NumOfProducts|HasCrCard|IsActiveMember|EstimatedSalary|Exited|GeographyIndex| GeographyVec|GenderIndex|    GenderVec|            features|     features_scaled|       rawPrediction|         probability|prediction|\n",
            "+----------+--------+-----------+---------+------+---+------+---------+-------------+---------+--------------+---------------+------+--------------+-------------+-----------+-------------+--------------------+--------------------+--------------------+--------------------+----------+\n",
            "|  15565701|   Ferri|        698|    Spain|Female| 39|     9|161993.89|            1|        0|             0|       90212.38|     0|           2.0|(3,[2],[1.0])|        1.0|(2,[1],[1.0])|[698.0,39.0,9.0,1...|[7.22717417597988...|[1.12674585895748...|[0.90495129824930...|       0.0|\n",
            "|  15565706|Akobundu|        612|    Spain|  Male| 35|     1|      0.0|            1|        1|             1|       83256.26|     1|           2.0|(3,[2],[1.0])|        0.0|(2,[0],[1.0])|[612.0,35.0,1.0,0...|[6.33672005114569...|[-1.2916090878953...|[0.07022631062134...|       1.0|\n",
            "|  15565796|Docherty|        745|  Germany|  Male| 48|    10| 96048.55|            1|        1|             0|       74510.65|     0|           1.0|(3,[1],[1.0])|        0.0|(2,[0],[1.0])|[745.0,48.0,10.0,...|[7.71381770931950...|[1.06706217713559...|[0.89417591173956...|       0.0|\n",
            "|  15565806|  Toosey|        532|   France|  Male| 38|     9|      0.0|            2|        0|             0|       30583.95|     0|           0.0|(3,[0],[1.0])|        0.0|(2,[0],[1.0])|(13,[0,1,2,4,7,8,...|(13,[0,1,2,4,7,8,...|[1.78842449395396...|[0.97279702175045...|       0.0|\n",
            "|  15565878|   Bates|        631|    Spain|  Male| 29|     3|      0.0|            2|        1|             1|      197963.46|     0|           2.0|(3,[2],[1.0])|        0.0|(2,[0],[1.0])|[631.0,29.0,3.0,0...|[6.53344828802766...|[1.84278289384197...|[0.97553078182010...|       0.0|\n",
            "|  15565879|   Riley|        845|   France|Female| 28|     9|      0.0|            2|        1|             1|       56185.98|     0|           0.0|(3,[0],[1.0])|        1.0|(2,[1],[1.0])|[845.0,28.0,9.0,0...|[8.74922948238253...|[1.91465598114556...|[0.97873736357033...|       0.0|\n",
            "|  15565996|  Arnold|        653|   France|  Male| 44|     8|      0.0|            2|        1|             1|      154639.72|     0|           0.0|(3,[0],[1.0])|        0.0|(2,[0],[1.0])|[653.0,44.0,8.0,0...|[6.76123887810153...|[1.85613802207339...|[0.97616033461944...|       0.0|\n",
            "|  15566030|      Tu|        497|  Germany|  Male| 41|     5| 80542.81|            1|        0|             0|       88729.22|     1|           1.0|(3,[1],[1.0])|        0.0|(2,[0],[1.0])|[497.0,41.0,5.0,8...|[5.14599651212321...|[-1.5631623931338...|[0.04203434975626...|       1.0|\n",
            "|  15566091| Thomsen|        545|    Spain|Female| 32|     4|      0.0|            1|        1|             0|        94739.2|     0|           2.0|(3,[2],[1.0])|        1.0|(2,[1],[1.0])|[545.0,32.0,4.0,0...|[5.64299416319346...|[0.81836430241139...|[0.83708930646161...|       0.0|\n",
            "|  15566111|   Estes|        596|   France|  Male| 39|     9|      0.0|            1|        1|             0|       48963.59|     0|           0.0|(3,[0],[1.0])|        0.0|(2,[0],[1.0])|[596.0,39.0,9.0,0...|[6.17105416745560...|[1.08404412507960...|[0.89734699874982...|       0.0|\n",
            "|  15566139|   Ts'ui|        526|   France|Female| 37|     5| 53573.18|            1|        1|             0|       62830.97|     0|           0.0|(3,[0],[1.0])|        1.0|(2,[1],[1.0])|[526.0,37.0,5.0,5...|[5.44626592631149...|[0.97006452602914...|[0.87436632051985...|       0.0|\n",
            "|  15566251| Ferrari|        618|   France|Female| 37|     5| 96652.86|            1|        1|             0|        98686.4|     1|           0.0|(3,[0],[1.0])|        1.0|(2,[1],[1.0])|[618.0,37.0,5.0,9...|[6.39884475752947...|[0.40628551772936...|[0.69265710560027...|       0.0|\n",
            "|  15566253| Manning|        580|  Germany|  Male| 44|     9|143391.07|            1|        0|             0|      146891.07|     1|           1.0|(3,[1],[1.0])|        0.0|(2,[0],[1.0])|[580.0,44.0,9.0,1...|[6.00538828376552...|[-1.9766776503475...|[0.01882887476368...|       1.0|\n",
            "|  15566269|Chialuka|        787|   France|  Male| 25|     5|      0.0|            2|        1|             0|        47307.9|     0|           0.0|(3,[0],[1.0])|        0.0|(2,[0],[1.0])|[787.0,25.0,5.0,0...|[8.14869065400597...|[1.87867031931410...|[0.97718684733018...|       0.0|\n",
            "|  15566295| Sanders|        761|   France|Female| 33|     6|138053.79|            2|        1|             0|      148779.41|     0|           0.0|(3,[0],[1.0])|        1.0|(2,[1],[1.0])|[761.0,33.0,6.0,1...|[7.87948359300959...|[1.66415083515129...|[0.96538706506313...|       0.0|\n",
            "|  15566312|   Jolly|        660|    Spain|Female| 42|     5|      0.0|            3|        1|             1|      189016.24|     1|           2.0|(3,[2],[1.0])|        1.0|(2,[1],[1.0])|[660.0,42.0,5.0,0...|[6.83371770221594...|[-1.9084877799372...|[0.02152088550237...|       1.0|\n",
            "|  15566378| Tillman|        515|   France|  Male| 48|     5|129387.94|            1|        0|             1|      147955.91|     1|           0.0|(3,[0],[1.0])|        0.0|(2,[0],[1.0])|[515.0,48.0,5.0,1...|[5.33237063127456...|[-0.9639192253093...|[0.12699002402501...|       1.0|\n",
            "|  15566380|   Drury|        586|    Spain|Female| 33|    10| 66948.67|            2|        1|             1|      140759.03|     0|           2.0|(3,[2],[1.0])|        1.0|(2,[1],[1.0])|[586.0,33.0,10.0,...|[6.06751299014930...|[1.89148609856371...|[0.97775130943780...|       0.0|\n",
            "|  15566467|  Hannah|        683|  Germany|Female| 32|     0| 138171.1|            2|        1|             1|      188203.58|     0|           1.0|(3,[1],[1.0])|        1.0|(2,[1],[1.0])|[683.0,32.0,0.0,1...|[7.07186241002043...|[1.95208526041463...|[0.98024063479785...|       0.0|\n",
            "|  15566494|    Fang|        487|   France|  Male| 45|     2|      0.0|            2|        1|             0|       77475.73|     0|           0.0|(3,[0],[1.0])|        0.0|(2,[0],[1.0])|[487.0,45.0,2.0,0...|[5.04245533481691...|[1.86520557034171...|[0.97657873806931...|       0.0|\n",
            "+----------+--------+-----------+---------+------+---+------+---------+-------------+---------+--------------+---------------+------+--------------+-------------+-----------+-------------+--------------------+--------------------+--------------------+--------------------+----------+\n",
            "only showing top 20 rows\n",
            "\n",
            "PipelineModel_3ad298c595fa Area under ROC = 0.9667740924545967\n"
          ]
        }
      ]
    },
    {
      "cell_type": "markdown",
      "source": [
        "## Print Your result as the following type"
      ],
      "metadata": {
        "id": "nImCAhojeUdU"
      }
    },
    {
      "cell_type": "code",
      "execution_count": 76,
      "metadata": {
        "id": "rewgVBI3dkNA",
        "outputId": "9c870ae3-614b-418c-a88a-fee0b3c652b9",
        "colab": {
          "base_uri": "https://localhost:8080/"
        }
      },
      "outputs": [
        {
          "output_type": "stream",
          "name": "stdout",
          "text": [
            "+----------+------+\n",
            "|CustomerId|Exited|\n",
            "+----------+------+\n",
            "|  15565701|   0.0|\n",
            "|  15565706|   1.0|\n",
            "|  15565796|   0.0|\n",
            "|  15565806|   0.0|\n",
            "|  15565878|   0.0|\n",
            "+----------+------+\n",
            "only showing top 5 rows\n",
            "\n"
          ]
        }
      ],
      "source": [
        "predictions.select('CustomerId', col('prediction').alias('Exited')).show(5)"
      ]
    },
    {
      "cell_type": "markdown",
      "source": [
        "## Calculate f-1 score"
      ],
      "metadata": {
        "id": "Dvd03pXBejH8"
      }
    },
    {
      "cell_type": "code",
      "source": [
        "from sklearn import metrics\n",
        "import numpy as np\n",
        "data_array = np.array(predictions.select('Exited').collect()).flatten()\n",
        "#print(data_array)\n",
        "prediction_array = np.array(predictions.select('prediction').collect()).flatten()\n",
        "print(\"F1_score = %s\" % metrics.f1_score(data_array, prediction_array))"
      ],
      "metadata": {
        "id": "FjyYfqgAekX-",
        "colab": {
          "base_uri": "https://localhost:8080/"
        },
        "outputId": "3f2b754e-6554-47b6-e646-d318c15dfe02"
      },
      "execution_count": 78,
      "outputs": [
        {
          "output_type": "stream",
          "name": "stdout",
          "text": [
            "F1_score = 0.9368421052631579\n"
          ]
        }
      ]
    },
    {
      "cell_type": "markdown",
      "metadata": {
        "id": "fgZHKhYxdkM-"
      },
      "source": [
        "# ------------------------------------------------------------------------------------------------------\n",
        "## Private Evaluation Part (TA will use this block to test your model)\n",
        "Please "
      ]
    },
    {
      "cell_type": "code",
      "execution_count": null,
      "metadata": {
        "id": "Gu92e5R9dkM_"
      },
      "outputs": [],
      "source": [
        "df_private = spark.read.csv('private.csv',header=True,inferSchema=True)  # TA takes private dataset as example"
      ]
    },
    {
      "cell_type": "markdown",
      "metadata": {
        "id": "g0wWDMNEdkM_"
      },
      "source": [
        "## Do prediction with your PySpark model here"
      ]
    },
    {
      "cell_type": "code",
      "execution_count": null,
      "metadata": {
        "id": "JGQrC4BLdkM_"
      },
      "outputs": [],
      "source": [
        ""
      ]
    },
    {
      "cell_type": "markdown",
      "metadata": {
        "id": "dNDZUsp5dkNA"
      },
      "source": [
        "## TA will use the following function to get your prediction result (f-1 score)"
      ]
    },
    {
      "cell_type": "code",
      "execution_count": null,
      "metadata": {
        "id": "NTjjcJEMdkNA",
        "outputId": "6a414a9d-c016-43ba-c2cc-cf652f2c8767"
      },
      "outputs": [
        {
          "data": {
            "text/plain": [
              "1.0"
            ]
          },
          "execution_count": 8,
          "metadata": {},
          "output_type": "execute_result"
        }
      ],
      "source": [
        "from sklearn import metrics\n",
        "import numpy as np\n",
        "data_array =  np.array(df_private.select('Exited').collect())\n",
        "\n",
        "metrics.f1_score(data_array,data_array)  "
      ]
    }
  ],
  "metadata": {
    "kernelspec": {
      "display_name": "Python 3",
      "language": "python",
      "name": "python3"
    },
    "language_info": {
      "codemirror_mode": {
        "name": "ipython",
        "version": 3
      },
      "file_extension": ".py",
      "mimetype": "text/x-python",
      "name": "python",
      "nbconvert_exporter": "python",
      "pygments_lexer": "ipython3",
      "version": "3.6.8"
    },
    "colab": {
      "name": "CCBDA_HW5_[Student_ID].ipynb",
      "provenance": [],
      "collapsed_sections": []
    }
  },
  "nbformat": 4,
  "nbformat_minor": 0
}