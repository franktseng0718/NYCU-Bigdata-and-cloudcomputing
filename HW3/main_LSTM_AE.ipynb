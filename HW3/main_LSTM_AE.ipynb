{
 "cells": [
  {
   "cell_type": "code",
   "execution_count": null,
   "metadata": {},
   "outputs": [],
   "source": [
    "# PyTorch\n",
    "import torch\n",
    "import torch.nn as nn\n",
    "from torch.utils.data import DataLoader\n",
    "from torch.utils.data.dataset import random_split\n",
    "import torch.utils.data as data\n",
    "\n",
    "# SciKit\n",
    "from sklearn.model_selection import train_test_split\n",
    "\n",
    "# Python\n",
    "import pandas as pd\n",
    "import numpy as np\n",
    "import time\n",
    "\n",
    "# Graphing\n",
    "import seaborn as sns\n",
    "import matplotlib.pyplot as plt\n",
    "%matplotlib inline\n",
    "\n",
    "# Device (GPU or CPU)\n",
    "device = torch.device(\"cuda\" if torch.cuda.is_available() else \"cpu\")"
   ]
  },
  {
   "cell_type": "code",
   "execution_count": null,
   "metadata": {},
   "outputs": [],
   "source": [
    "RANDOM_SEED = 42\n",
    "np.random.seed(RANDOM_SEED)\n",
    "torch.manual_seed(RANDOM_SEED)"
   ]
  },
  {
   "cell_type": "code",
   "execution_count": null,
   "metadata": {},
   "outputs": [],
   "source": [
    "# ML Parameters\n",
    "lr = 1e-3\n",
    "epoch = 100\n",
    "batch_size = 512\n",
    "\n",
    "# Data Parameters\n",
    "data_seq_len = 140\n",
    "data_n_features = 1\n",
    "data_embedding_dim = 64"
   ]
  },
  {
   "cell_type": "code",
   "execution_count": null,
   "metadata": {},
   "outputs": [],
   "source": [
    "#load train data\n",
    "df_sensorA_normal = pd.read_csv('data/sensor_A_normal.csv', header=None)\n",
    "df_sensorB_normal = pd.read_csv('data/sensor_B_normal.csv', header=None)\n",
    "df_sensorC_normal = pd.read_csv('data/sensor_C_normal.csv', header=None)\n",
    "df_sensorD_normal = pd.read_csv('data/sensor_D_normal.csv', header=None)\n",
    "df_sensorE_normal = pd.read_csv('data/sensor_E_normal.csv', header=None)\n",
    "df_train = [df_sensorA_normal, df_sensorB_normal, df_sensorC_normal, df_sensorD_normal, df_sensorE_normal]\n",
    "\n",
    "# load val data\n",
    "df_sensorA_public = pd.read_csv('data/sensor_A_public.csv', header=None)\n",
    "df_sensorB_public = pd.read_csv('data/sensor_B_public.csv', header=None)\n",
    "df_sensorC_public = pd.read_csv('data/sensor_C_public.csv', header=None)\n",
    "df_sensorD_public = pd.read_csv('data/sensor_D_public.csv', header=None)\n",
    "df_sensorE_public = pd.read_csv('data/sensor_E_public.csv', header=None)\n",
    "df_test = [df_sensorA_public, df_sensorB_public, df_sensorC_public, df_sensorD_public, df_sensorE_public]\n",
    "\n",
    "# load test data\n",
    "df_sensorA_private = pd.read_csv('data/sensor_A_private.csv', header=None)\n",
    "df_sensorB_private = pd.read_csv('data/sensor_B_private.csv', header=None)\n",
    "df_sensorC_private = pd.read_csv('data/sensor_C_private.csv', header=None)\n",
    "df_sensorD_private = pd.read_csv('data/sensor_D_private.csv', header=None)\n",
    "df_sensorE_private = pd.read_csv('data/sensor_E_private.csv', header=None)\n",
    "df_private = [df_sensorA_private, df_sensorB_private, df_sensorC_private, df_sensorD_private, df_sensorE_private]"
   ]
  },
  {
   "cell_type": "code",
   "execution_count": null,
   "metadata": {},
   "outputs": [],
   "source": [
    "for df in df_test:\n",
    "    df.drop(df.index[-1], inplace=True)"
   ]
  },
  {
   "cell_type": "code",
   "execution_count": null,
   "metadata": {},
   "outputs": [],
   "source": [
    "class SensorDataset(data.Dataset):\n",
    "\n",
    "    def __init__(self, df):\n",
    "        self.sequences = df.astype(np.float64).to_numpy()\n",
    "\n",
    "    def __len__(self):\n",
    "        return len(self.sequences)\n",
    "\n",
    "    def __getitem__(self, idx):\n",
    "        out = self.sequences[idx]\n",
    "        out = out.reshape((-1, 1))   # change from (seq_len,) to (seq_len, n_features) (i.e., (140,1))\n",
    "        return out"
   ]
  },
  {
   "cell_type": "code",
   "execution_count": null,
   "metadata": {},
   "outputs": [],
   "source": [
    "train_dataset = SensorDataset(df_sensorA_normal)\n",
    "test_dataset = SensorDataset(df_sensorA_public)"
   ]
  }
 ],
 "metadata": {
  "language_info": {
   "name": "python"
  },
  "orig_nbformat": 4
 },
 "nbformat": 4,
 "nbformat_minor": 2
}
